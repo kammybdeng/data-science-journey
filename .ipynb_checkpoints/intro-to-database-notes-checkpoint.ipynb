{
 "cells": [
  {
   "cell_type": "markdown",
   "metadata": {},
   "source": [
    "# Database Explained"
   ]
  },
  {
   "cell_type": "markdown",
   "metadata": {},
   "source": [
    "Notes from the book \"Fundamentals of Database Systems\" by Elmasri and Navathe\n",
    "\n",
    "http://iips.icci.edu.iq/images/exam/databases-ramaz.pdf"
   ]
  },
  {
   "cell_type": "markdown",
   "metadata": {},
   "source": [
    "[What is a Database?](#Database)"
   ]
  },
  {
   "cell_type": "markdown",
   "metadata": {},
   "source": [
    "***"
   ]
  },
  {
   "cell_type": "markdown",
   "metadata": {},
   "source": [
    "### Database"
   ]
  },
  {
   "cell_type": "markdown",
   "metadata": {},
   "source": [
    "![database-overview](img/database-system-overview.png)"
   ]
  },
  {
   "cell_type": "markdown",
   "metadata": {},
   "source": [
    "#### Database:\n",
    "A collection of related data (general definition). They often have more restrictions with the following implicit properties:\n",
    "    \n",
    "    - Represents some aspects of the real world (mini world)\n",
    "    - Logically coherent collection of data with some inherent meaning\n",
    "    - Designed, built and populated with data for a specific purpose\n",
    "\n",
    "What are some types of Database?\n",
    "\n",
    "   - **Traditional Database applications** - in textual and numeric forms\n",
    "   \n",
    "   - **Multimedia databases** - images, audio clips, video stream \n",
    "   \n",
    "   - **Geographic information systems(GIS)** - maps, weather data, satellite images\n"
   ]
  },
  {
   "cell_type": "markdown",
   "metadata": {},
   "source": [
    "**Database management system(DBMS)** - a collection of programs that enables users to create and maintain a database.\n",
    "\n",
    "**Meta-data** - database definition or descriptive information (in forms of catalog or dictionary)\n"
   ]
  },
  {
   "cell_type": "markdown",
   "metadata": {},
   "source": [
    "**Database system** - database + DBMS softwares\n"
   ]
  },
  {
   "cell_type": "markdown",
   "metadata": {},
   "source": [
    "------"
   ]
  },
  {
   "cell_type": "markdown",
   "metadata": {},
   "source": [
    "## Relational vs Non relational database"
   ]
  },
  {
   "cell_type": "markdown",
   "metadata": {},
   "source": [
    "![relational-vs-nonrelational from upwork](https://content-static.upwork.com/blog/uploads/sites/3/2015/06/02170023/relational-vs-nonrelational-databases.png)"
   ]
  },
  {
   "cell_type": "markdown",
   "metadata": {},
   "source": [
    "### Relational (MySQL) \n",
    "\n",
    "- SQL = Structured Query Language\n",
    "- represents data in **tables** and **rows**\n",
    "- **querying**: SQL injection attack are possible\n",
    "- **application**: when data structure fits nicely into tables and rows\n",
    "\n",
    "\n",
    "### Relational (NoSQL, MongoDB)\n",
    "\n",
    "- represents data as **collections** of **Json** documents\n",
    "- **application**: when data is too complex or you can’t pre-define your schema"
   ]
  }
 ],
 "metadata": {
  "kernelspec": {
   "display_name": "kammyenv",
   "language": "python",
   "name": "kammyenv"
  },
  "language_info": {
   "codemirror_mode": {
    "name": "ipython",
    "version": 3
   },
   "file_extension": ".py",
   "mimetype": "text/x-python",
   "name": "python",
   "nbconvert_exporter": "python",
   "pygments_lexer": "ipython3",
   "version": "3.6.5"
  }
 },
 "nbformat": 4,
 "nbformat_minor": 2
}
