{
 "cells": [
  {
   "cell_type": "markdown",
   "metadata": {},
   "source": [
    "# SQL exercises"
   ]
  },
  {
   "cell_type": "markdown",
   "metadata": {},
   "source": [
    "PostgresSQL excercises from https://pgexercises.com/questions/basic/"
   ]
  },
  {
   "cell_type": "markdown",
   "metadata": {},
   "source": [
    "![sql-exercise-schema](img/sql-exercise-schema.png)"
   ]
  },
  {
   "cell_type": "markdown",
   "metadata": {},
   "source": [
    "- [Basic](#Basic)\n",
    "\n",
    "Intermediate\n",
    "- [Join](#Join)\n",
    "- [Aggregation](#Aggregation)\n",
    "- [Case statement](#Case)\n",
    "\n",
    "Advance \n",
    "- [Cast](#Cast)\n",
    "- [Rank](#Rank)\n",
    "- [Window Function](#WINDOW-FUNCTION)\n",
    "- [Timestamp](#Timestamp)"
   ]
  },
  {
   "cell_type": "markdown",
   "metadata": {},
   "source": [
    "## Additional Practice\n",
    "[Leetcode](#Leetcode)"
   ]
  },
  {
   "cell_type": "markdown",
   "metadata": {},
   "source": [
    "# Basic"
   ]
  },
  {
   "cell_type": "markdown",
   "metadata": {},
   "source": [
    "### Multiple conditions\n",
    "How can you produce a list of facilities that charge a fee to members, and that fee is less than 1/50th of the monthly maintenance cost? Return the facid, facility name, member cost, and monthly maintenance of the facilities in question.\n",
    "\n",
    "    SELECT facid, name, membercost, monthlymaintenance\n",
    "        FROM cd.facilities\n",
    "        WHERE (membercost > 0) AND (membercost < monthlymaintenance / 50)\n",
    "\n"
   ]
  },
  {
   "cell_type": "markdown",
   "metadata": {},
   "source": [
    "### IN Function\n",
    "How can you retrieve the details of facilities with ID 1 and 5? Try to do it without using the OR operator.\n",
    "\n",
    "    SELECT *\n",
    "        FROM cd.facilities\n",
    "        WHERE facid IN (1,5)\n",
    "\n"
   ]
  },
  {
   "cell_type": "markdown",
   "metadata": {},
   "source": [
    "### Datetime\n",
    "How can you produce a list of members who joined after the start of September 2012? Return the memid, surname, firstname, and joindate of the members in question.\n",
    "\n",
    "\n",
    "    SELECT memid, surname, firstname, joindate\n",
    "        FROM cd.members\n",
    "        WHERE joindate >= '2012-09-01'"
   ]
  },
  {
   "cell_type": "markdown",
   "metadata": {},
   "source": [
    "### Union\n",
    "You, for some reason, want a combined list of all surnames and all facility names. Yes, this is a contrived example :-). Produce that list!\n",
    "\n",
    "    SELECT surname \n",
    "        FROM cd.members \n",
    "        UNION \n",
    "    SELECT name\n",
    "        FROM cd.facilities"
   ]
  },
  {
   "cell_type": "markdown",
   "metadata": {},
   "source": [
    "### Case"
   ]
  },
  {
   "cell_type": "markdown",
   "metadata": {},
   "source": [
    "### CASE statement (CASE WHEN ... ELSE ... END AS ...)\n",
    "How can you produce a list of facilities, with each labelled as 'cheap' or 'expensive' depending on if their monthly maintenance cost is more than $100? Return the name and monthly maintenance of the facilities in question.\n",
    "\n",
    "     \n",
    "     SELECT name,\n",
    "        CASE WHEN monthlymaintenance > 100 THEN \n",
    "            'expensive'\n",
    "        ELSE \n",
    "            'cheap'\n",
    "        END AS \n",
    "            cost\n",
    "        FROM cd.facilities"
   ]
  },
  {
   "cell_type": "markdown",
   "metadata": {},
   "source": [
    "***"
   ]
  },
  {
   "cell_type": "markdown",
   "metadata": {},
   "source": [
    "# Join"
   ]
  },
  {
   "cell_type": "markdown",
   "metadata": {},
   "source": [
    "### Self join with aggregation\n",
    "You'd like to get the first and last name of the last member(s) who signed up - not just the date. How can you do that?\n",
    "\n",
    "\n",
    "    SELECT firstname, surname, joindate\n",
    "        FROM cd.members\n",
    "        WHERE joindate = (SELECT MAX(joindate) FROM cd.members)\n",
    "\n",
    "\n",
    "**Explaination: Why this would not work**\n",
    "\n",
    "    SELECT firstname, surname, MAX(joindate)\n",
    "        FROM cd.members\n",
    "\n",
    "MAX(joindate) - returns a single value when firstname and surname would return a list of all the name values, hence it was confused when asked to concate these three items together\n",
    "\n",
    "\n",
    "**In the correct query, we have created one single row from the subquery and compare this row to all the rows in the joindate column.**\n",
    "\n",
    "\n",
    "Other approach:\n",
    "\n",
    "\n",
    "     SELECT firstname, surname, joindate\n",
    "       FROM cd.members\n",
    "       ORDER BY joindate DESC\n",
    "       LIMIT 1\n"
   ]
  },
  {
   "cell_type": "markdown",
   "metadata": {},
   "source": [
    "### Regex\n",
    "How can you produce a list of the start times for bookings for tennis courts, for the date '2012-09-21'? Return a list of start time and facility name pairings, ordered by the time.\n",
    "\n",
    "\n",
    "    SELECT book.starttime as start, fac.name as name\n",
    "        FROM cd.facilities as fac\n",
    "        JOIN cd.bookings as book\n",
    "        ON fac.facid = book.facid\n",
    "        WHERE book.starttime::DATE = '2012-09-21' AND (fac.name ~ '^Tennis')\n",
    "    ORDER BY book.starttime\n"
   ]
  },
  {
   "cell_type": "markdown",
   "metadata": {},
   "source": [
    "### Self join (Distinct)\n",
    "How can you output a list of all members who have recommended another member? Ensure that there are no duplicates in the list, and that results are ordered by (surname, firstname).\n",
    "\n",
    "    SELECT firstname , surname\n",
    "        FROM cd.members\n",
    "        WHERE memid in (SELECT DISTINCT(recommendedby) FROM cd.members)\n",
    "    ORDER BY 2,1\n",
    "    \n",
    "    \n",
    "**Explaination**: \n",
    "\n",
    "SELECT DISTINCT(recommendedby) returns a list of distinct recommenders and match these ids to memid(member/recommender's actual id)"
   ]
  },
  {
   "cell_type": "markdown",
   "metadata": {},
   "source": [
    "### Self join \n",
    "How can you output a list of all members, including the individual who recommended them (if any)? Ensure that results are ordered by (surname, firstname).\n",
    "\n",
    "\n",
    "\n",
    "    SELECT A.firstname, A.surname, recommenders.firstname as recfname, \n",
    "        recommenders.surname as recsname\n",
    "        FROM cd.members AS A\n",
    "            LEFT JOIN (SELECT firstname, surname, memid\n",
    "                       FROM cd.members) AS recommenders\n",
    "            ON A.recommendedby = recommenders.memid\n",
    "    ORDER BY A.surname, A.firstname"
   ]
  },
  {
   "cell_type": "markdown",
   "metadata": {},
   "source": [
    "### (need revision)\n",
    "How can you produce a list of bookings on the day of 2012-09-14 which will cost the member (or guest) more than $30? Remember that guests have different costs to members (the listed costs are per half-hour 'slot'), and the guest user is always ID 0. Include in your output the name of the facility, the name of the member formatted as a single column, and the cost. Order by descending cost, and do not use any subqueries.\n",
    "\n",
    "\n",
    "    SELECT firstname ||' ' || surname as member, \n",
    "    fac.name as facility, \n",
    "    CASE\n",
    "\n",
    "    WHEN mem.memid != 0 THEN\n",
    "\n",
    "        bk.slots * fac.membercost \n",
    "\n",
    "    ELSE\t\n",
    "        bk.slots * fac.guestcost\n",
    "\n",
    "    END AS cost\n",
    "\n",
    "\n",
    "\n",
    "    FROM cd.bookings bk\n",
    "\n",
    "    JOIN cd.facilities fac\n",
    "\n",
    "    ON bk.facid = fac.facid\n",
    "\n",
    "    JOIN cd.members mem\n",
    "\n",
    "    ON mem.memid = bk.memid\n",
    "\n",
    "    WHERE starttime::date = '2012-09-14'\n",
    "\n",
    "    AND (\n",
    "      (bk.memid != 0 AND bk.slots * fac.membercost > 30 ) OR \n",
    "      (bk.memid = 0 AND bk.slots * fac.guestcost >30 ))\n",
    "\n",
    "\n",
    "    ORDER BY cost DESC\n"
   ]
  },
  {
   "cell_type": "markdown",
   "metadata": {},
   "source": [
    "***"
   ]
  },
  {
   "cell_type": "markdown",
   "metadata": {},
   "source": [
    "# Aggregation"
   ]
  },
  {
   "cell_type": "markdown",
   "metadata": {},
   "source": [
    "### Not Null\n",
    "\n",
    "Produce a count of the number of recommendations each member has made. Order by member ID.\n",
    "\n",
    "    SELECT recommendedby, COUNT(*)\n",
    "        FROM cd.members\n",
    "        WHERE recommendedby IS NOT NULL\n",
    "        GROUP BY recommendedby\n",
    "    ORDER BY recommendedby"
   ]
  },
  {
   "cell_type": "markdown",
   "metadata": {},
   "source": [
    "### Filter on date and sum\n",
    "Produce a list of the total number of slots booked per facility in the month of September 2012. Produce an output table consisting of facility id and slots, sorted by the number of slots.\n",
    "\n",
    "    SELECT facid, SUM(slots) as \"Total Slots\"\n",
    "        FROM cd.bookings bk\n",
    "        WHERE date_trunc('month', starttime) >= '2012-09-01'\n",
    "           AND date_trunc('month', starttime) <= '2012-09-30'\n",
    "        GROUP BY facid\n",
    "    ORDER BY 2\n"
   ]
  },
  {
   "cell_type": "markdown",
   "metadata": {},
   "source": [
    "## Cast"
   ]
  },
  {
   "cell_type": "markdown",
   "metadata": {},
   "source": [
    "### CAST Function\n",
    "Produce a list of the total number of hours booked per facility, remembering that a slot lasts half an hour. The output table should consist of the facility id, name, and hours booked, sorted by facility id. Try formatting the hours to two decimal places.\n",
    "\n",
    "    SELECT fac.facid, fac.name, CAST(SUM(slots)/2.0 AS DECIMAL(10,2)) AS \"Total Hours\"\n",
    "        FROM cd.facilities fac\n",
    "        JOIN cd.bookings bk\n",
    "        ON fac.facid = bk.facid\n",
    "        GROUP BY fac.facid\n",
    "    ORDER BY 1,2"
   ]
  },
  {
   "cell_type": "markdown",
   "metadata": {},
   "source": [
    "### Rollup Function\n",
    "Produce a list of the total number of slots booked per facility per month in the year of 2012. In this version, include output rows containing totals for all months per facility, and a total for all months for all facilities. The output table should consist of facility id, month and slots, sorted by the id and month. When calculating the aggregated values for all months and all facids, return null values in the month and facid columns.\n",
    "\n",
    "    SELECT facid, EXTRACT ('MONTH' FROM starttime) as \"month\" , SUM(slots) as \"slots\"\n",
    "        FROM cd.bookings   \n",
    "        WHERE EXTRACT ('YEAR' FROM starttime) = '2012'\n",
    "        GROUP BY ROLLUP(facid, 2)\n",
    "    ORDER BY 1, 2"
   ]
  },
  {
   "cell_type": "markdown",
   "metadata": {},
   "source": [
    "## Rank"
   ]
  },
  {
   "cell_type": "markdown",
   "metadata": {},
   "source": [
    "### RANK Function and ROUND Function\n",
    "Produce a list of members, along with the number of hours they've booked in facilities, rounded to the nearest ten hours. Rank them by this rounded figure, producing output of first name, surname, rounded hours, rank. Sort by rank, surname, and first name."
   ]
  },
  {
   "cell_type": "markdown",
   "metadata": {},
   "source": [
    "    SELECT firstname, surname, CAST(ROUND(SUM(slots)/2, -1) AS DECIMAL(10,0)) as hours,\n",
    "        RANK() OVER (ORDER BY CAST(ROUND(SUM(slots)/2, -1) AS DECIMAL(10,0)) DESC) AS rank\n",
    "\n",
    "        FROM cd.members mem\n",
    "        JOIN cd.bookings bk\n",
    "        ON mem.memid = bk.memid\n",
    "        GROUP BY mem.memid\n",
    "\n",
    "    ORDER BY 4,2,1"
   ]
  },
  {
   "cell_type": "markdown",
   "metadata": {},
   "source": [
    "## WINDOW FUNCTION"
   ]
  },
  {
   "cell_type": "markdown",
   "metadata": {},
   "source": [
    "\n",
    "return a **single value for each row** from the underlying query."
   ]
  },
  {
   "cell_type": "markdown",
   "metadata": {},
   "source": [
    "### OVER() Function\n",
    "Produce a list of member names, with each row containing the total member count. Order by join date.\n",
    "\n",
    "    SELECT COUNT(*) OVER(), firstname, surname\n",
    "        FROM cd.members\n",
    "        ORDER BY joindate"
   ]
  },
  {
   "cell_type": "markdown",
   "metadata": {},
   "source": [
    "### ROW_NUMBER FUNCTION\n",
    "\n",
    "Produce a monotonically increasing numbered list of members, ordered by their date of joining. Remember that member IDs are not guaranteed to be sequential.\n",
    "\n",
    "    SELECT ROW_NUMBER() OVER(ORDER BY joindate), firstname, surname\n",
    "        FROM cd.members"
   ]
  },
  {
   "cell_type": "markdown",
   "metadata": {},
   "source": [
    "***"
   ]
  },
  {
   "cell_type": "markdown",
   "metadata": {},
   "source": [
    "# Timestamp"
   ]
  },
  {
   "cell_type": "markdown",
   "metadata": {},
   "source": [
    "### Interval\n",
    "Find the result of subtracting the timestamp '2012-07-30 01:00:00' from the timestamp '2012-08-31 01:00:00'\n",
    "\n",
    "    SELECT timestamp '2012-08-31 01:00:00' - timestamp '2012-07-30 01:00:00' as interval"
   ]
  },
  {
   "cell_type": "markdown",
   "metadata": {},
   "source": [
    "### generate_series Function\n",
    "\n",
    "\n",
    "    SELECT generate_series(timestamp '2012-10-01', timestamp '2012-10-31', interval '1 day') as ts;          \n"
   ]
  },
  {
   "cell_type": "markdown",
   "metadata": {},
   "source": [
    "### extract Function\n",
    "Get the day of the month from the timestamp '2012-08-31' as an integer.\n",
    "\n",
    "    SELECT EXTRACT (DAY FROM timestamp '2012-08-31')"
   ]
  },
  {
   "cell_type": "markdown",
   "metadata": {},
   "source": [
    "### date_trunc Function\n",
    "\n",
    "Return a count of bookings for each month, sorted by month\n",
    "\n",
    "    SELECT  date_trunc ('month', starttime) as month, COUNT(*)\n",
    "        FROM cd.bookings\n",
    "        GROUP BY month\n",
    "    ORDER BY month"
   ]
  },
  {
   "cell_type": "markdown",
   "metadata": {},
   "source": [
    "***"
   ]
  },
  {
   "cell_type": "markdown",
   "metadata": {},
   "source": [
    "# Leetcode"
   ]
  },
  {
   "cell_type": "markdown",
   "metadata": {},
   "source": [
    "#### 176. Second Highest Salary\n",
    "\n",
    "    SELECT  MAX(Salary) SecondHighestSalary\n",
    "        FROM Employee\n",
    "        WHERE Salary NOT IN (SELECT MAX(Salary) FROM Employee)\n",
    "    "
   ]
  },
  {
   "cell_type": "markdown",
   "metadata": {},
   "source": [
    "#### 182. Duplicate Emails\n",
    "\n",
    "    SELECT Email\n",
    "       FROM Person\n",
    "       GROUP BY Email\n",
    "       HAVING COUNT(*) > 1"
   ]
  },
  {
   "cell_type": "markdown",
   "metadata": {},
   "source": [
    "#### 181. Employees Earning More Than Their Managers\n",
    "\n",
    "    SELECT Employee.Name as Employee\n",
    "        FROM Employee\n",
    "        JOIN (SELECT Id, Salary FROM Employee) as man\n",
    "        ON man.Id = Employee.ManagerId\n",
    "        WHERE man.Salary <  Employee.Salary"
   ]
  },
  {
   "cell_type": "markdown",
   "metadata": {},
   "source": [
    "#### 197. Rising Temperature\n",
    "\n",
    "    SELECT W2.ID\n",
    "        FROM Weather as W1, Weather as W2\n",
    "        WHERE DATEDIFF(W2.RecordDate, W1.RecordDate) = 1 AND W2.Temperature > W1.Temperature "
   ]
  },
  {
   "cell_type": "markdown",
   "metadata": {},
   "source": [
    "#### 183. Customers Who Never Order\n",
    "\n",
    "    SELECT Customers.Name as Customers\n",
    "        FROM Customers \n",
    "        LEFT JOIN Orders\n",
    "        ON Customers.Id = Orders.CustomerId\n",
    "        WHERE Orders.CustomerId IS NULL"
   ]
  },
  {
   "cell_type": "code",
   "execution_count": null,
   "metadata": {},
   "outputs": [],
   "source": []
  }
 ],
 "metadata": {
  "kernelspec": {
   "display_name": "kammyenv",
   "language": "python",
   "name": "kammyenv"
  },
  "language_info": {
   "codemirror_mode": {
    "name": "ipython",
    "version": 3
   },
   "file_extension": ".py",
   "mimetype": "text/x-python",
   "name": "python",
   "nbconvert_exporter": "python",
   "pygments_lexer": "ipython3",
   "version": "3.6.5"
  }
 },
 "nbformat": 4,
 "nbformat_minor": 2
}
