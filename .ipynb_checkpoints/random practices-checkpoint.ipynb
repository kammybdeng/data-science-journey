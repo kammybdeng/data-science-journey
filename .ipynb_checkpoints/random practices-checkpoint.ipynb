{
 "cells": [
  {
   "cell_type": "markdown",
   "metadata": {},
   "source": [
    "# Random practices\n"
   ]
  },
  {
   "cell_type": "code",
   "execution_count": 46,
   "metadata": {},
   "outputs": [],
   "source": [
    "import pandas as pd\n",
    "import numpy as np\n",
    "from collections import Counter, defaultdict\n",
    "import seaborn as sns\n",
    "import matplotlib.pyplot as plt\n",
    "from sklearn import tree"
   ]
  },
  {
   "cell_type": "code",
   "execution_count": 2,
   "metadata": {},
   "outputs": [],
   "source": [
    "test_data = pd.read_csv('test_table.csv')\n",
    "user_data = pd.read_csv('user_table.csv')"
   ]
  },
  {
   "cell_type": "code",
   "execution_count": 3,
   "metadata": {},
   "outputs": [
    {
     "data": {
      "text/html": [
       "<div>\n",
       "<style scoped>\n",
       "    .dataframe tbody tr th:only-of-type {\n",
       "        vertical-align: middle;\n",
       "    }\n",
       "\n",
       "    .dataframe tbody tr th {\n",
       "        vertical-align: top;\n",
       "    }\n",
       "\n",
       "    .dataframe thead th {\n",
       "        text-align: right;\n",
       "    }\n",
       "</style>\n",
       "<table border=\"1\" class=\"dataframe\">\n",
       "  <thead>\n",
       "    <tr style=\"text-align: right;\">\n",
       "      <th></th>\n",
       "      <th>user_id</th>\n",
       "      <th>date</th>\n",
       "      <th>source</th>\n",
       "      <th>device</th>\n",
       "      <th>browser_language</th>\n",
       "      <th>ads_channel</th>\n",
       "      <th>browser</th>\n",
       "      <th>conversion</th>\n",
       "      <th>test</th>\n",
       "    </tr>\n",
       "  </thead>\n",
       "  <tbody>\n",
       "    <tr>\n",
       "      <th>0</th>\n",
       "      <td>315281</td>\n",
       "      <td>2015-12-03</td>\n",
       "      <td>Direct</td>\n",
       "      <td>Web</td>\n",
       "      <td>ES</td>\n",
       "      <td>NaN</td>\n",
       "      <td>IE</td>\n",
       "      <td>1</td>\n",
       "      <td>0</td>\n",
       "    </tr>\n",
       "    <tr>\n",
       "      <th>1</th>\n",
       "      <td>497851</td>\n",
       "      <td>2015-12-04</td>\n",
       "      <td>Ads</td>\n",
       "      <td>Web</td>\n",
       "      <td>ES</td>\n",
       "      <td>Google</td>\n",
       "      <td>IE</td>\n",
       "      <td>0</td>\n",
       "      <td>1</td>\n",
       "    </tr>\n",
       "    <tr>\n",
       "      <th>2</th>\n",
       "      <td>848402</td>\n",
       "      <td>2015-12-04</td>\n",
       "      <td>Ads</td>\n",
       "      <td>Web</td>\n",
       "      <td>ES</td>\n",
       "      <td>Facebook</td>\n",
       "      <td>Chrome</td>\n",
       "      <td>0</td>\n",
       "      <td>0</td>\n",
       "    </tr>\n",
       "    <tr>\n",
       "      <th>3</th>\n",
       "      <td>290051</td>\n",
       "      <td>2015-12-03</td>\n",
       "      <td>Ads</td>\n",
       "      <td>Mobile</td>\n",
       "      <td>Other</td>\n",
       "      <td>Facebook</td>\n",
       "      <td>Android_App</td>\n",
       "      <td>0</td>\n",
       "      <td>1</td>\n",
       "    </tr>\n",
       "    <tr>\n",
       "      <th>4</th>\n",
       "      <td>548435</td>\n",
       "      <td>2015-11-30</td>\n",
       "      <td>Ads</td>\n",
       "      <td>Web</td>\n",
       "      <td>ES</td>\n",
       "      <td>Google</td>\n",
       "      <td>FireFox</td>\n",
       "      <td>0</td>\n",
       "      <td>1</td>\n",
       "    </tr>\n",
       "  </tbody>\n",
       "</table>\n",
       "</div>"
      ],
      "text/plain": [
       "   user_id        date  source  device browser_language ads_channel  \\\n",
       "0   315281  2015-12-03  Direct     Web               ES         NaN   \n",
       "1   497851  2015-12-04     Ads     Web               ES      Google   \n",
       "2   848402  2015-12-04     Ads     Web               ES    Facebook   \n",
       "3   290051  2015-12-03     Ads  Mobile            Other    Facebook   \n",
       "4   548435  2015-11-30     Ads     Web               ES      Google   \n",
       "\n",
       "       browser  conversion  test  \n",
       "0           IE           1     0  \n",
       "1           IE           0     1  \n",
       "2       Chrome           0     0  \n",
       "3  Android_App           0     1  \n",
       "4      FireFox           0     1  "
      ]
     },
     "execution_count": 3,
     "metadata": {},
     "output_type": "execute_result"
    }
   ],
   "source": [
    "test_data.head()"
   ]
  },
  {
   "cell_type": "code",
   "execution_count": 64,
   "metadata": {},
   "outputs": [
    {
     "name": "stdout",
     "output_type": "stream",
     "text": [
      "<class 'pandas.core.frame.DataFrame'>\n",
      "RangeIndex: 452867 entries, 0 to 452866\n",
      "Data columns (total 4 columns):\n",
      "user_id    452867 non-null int64\n",
      "sex        452867 non-null object\n",
      "age        452867 non-null int64\n",
      "country    452867 non-null object\n",
      "dtypes: int64(2), object(2)\n",
      "memory usage: 13.8+ MB\n"
     ]
    }
   ],
   "source": [
    "user_data.info()"
   ]
  },
  {
   "cell_type": "code",
   "execution_count": 4,
   "metadata": {},
   "outputs": [
    {
     "data": {
      "text/html": [
       "<div>\n",
       "<style scoped>\n",
       "    .dataframe tbody tr th:only-of-type {\n",
       "        vertical-align: middle;\n",
       "    }\n",
       "\n",
       "    .dataframe tbody tr th {\n",
       "        vertical-align: top;\n",
       "    }\n",
       "\n",
       "    .dataframe thead th {\n",
       "        text-align: right;\n",
       "    }\n",
       "</style>\n",
       "<table border=\"1\" class=\"dataframe\">\n",
       "  <thead>\n",
       "    <tr style=\"text-align: right;\">\n",
       "      <th></th>\n",
       "      <th>user_id</th>\n",
       "      <th>sex</th>\n",
       "      <th>age</th>\n",
       "      <th>country</th>\n",
       "    </tr>\n",
       "  </thead>\n",
       "  <tbody>\n",
       "    <tr>\n",
       "      <th>0</th>\n",
       "      <td>765821</td>\n",
       "      <td>M</td>\n",
       "      <td>20</td>\n",
       "      <td>Mexico</td>\n",
       "    </tr>\n",
       "    <tr>\n",
       "      <th>1</th>\n",
       "      <td>343561</td>\n",
       "      <td>F</td>\n",
       "      <td>27</td>\n",
       "      <td>Nicaragua</td>\n",
       "    </tr>\n",
       "    <tr>\n",
       "      <th>2</th>\n",
       "      <td>118744</td>\n",
       "      <td>M</td>\n",
       "      <td>23</td>\n",
       "      <td>Colombia</td>\n",
       "    </tr>\n",
       "    <tr>\n",
       "      <th>3</th>\n",
       "      <td>987753</td>\n",
       "      <td>F</td>\n",
       "      <td>27</td>\n",
       "      <td>Venezuela</td>\n",
       "    </tr>\n",
       "    <tr>\n",
       "      <th>4</th>\n",
       "      <td>554597</td>\n",
       "      <td>F</td>\n",
       "      <td>20</td>\n",
       "      <td>Spain</td>\n",
       "    </tr>\n",
       "  </tbody>\n",
       "</table>\n",
       "</div>"
      ],
      "text/plain": [
       "   user_id sex  age    country\n",
       "0   765821   M   20     Mexico\n",
       "1   343561   F   27  Nicaragua\n",
       "2   118744   M   23   Colombia\n",
       "3   987753   F   27  Venezuela\n",
       "4   554597   F   20      Spain"
      ]
     },
     "execution_count": 4,
     "metadata": {},
     "output_type": "execute_result"
    }
   ],
   "source": [
    "user_data.head()"
   ]
  },
  {
   "cell_type": "code",
   "execution_count": 5,
   "metadata": {},
   "outputs": [
    {
     "name": "stdout",
     "output_type": "stream",
     "text": [
      "True\n",
      "True\n",
      "False\n",
      "-454\n"
     ]
    }
   ],
   "source": [
    "# check to see if all user ids are unique in test table\n",
    "print(len(test_data) == len(test_data.user_id.unique()))\n",
    "# check to see if all user ids are unique in user table\n",
    "print(len(user_data) == len(user_data.user_id.unique()))\n",
    "\n",
    "# check to see if both tables are the same length\n",
    "print(len(user_data) == len(test_data))\n",
    "print(len(user_data) - len(test_data))\n"
   ]
  },
  {
   "cell_type": "markdown",
   "metadata": {},
   "source": [
    "Since the user table is smaller, there are some missing user info on the test results. Let's to a left join to retain the test info."
   ]
  },
  {
   "cell_type": "code",
   "execution_count": 6,
   "metadata": {},
   "outputs": [],
   "source": [
    "table1 = test_data.merge(user_data, how = 'left', on = 'user_id')"
   ]
  },
  {
   "cell_type": "code",
   "execution_count": 7,
   "metadata": {},
   "outputs": [
    {
     "data": {
      "text/html": [
       "<div>\n",
       "<style scoped>\n",
       "    .dataframe tbody tr th:only-of-type {\n",
       "        vertical-align: middle;\n",
       "    }\n",
       "\n",
       "    .dataframe tbody tr th {\n",
       "        vertical-align: top;\n",
       "    }\n",
       "\n",
       "    .dataframe thead th {\n",
       "        text-align: right;\n",
       "    }\n",
       "</style>\n",
       "<table border=\"1\" class=\"dataframe\">\n",
       "  <thead>\n",
       "    <tr style=\"text-align: right;\">\n",
       "      <th></th>\n",
       "      <th>user_id</th>\n",
       "      <th>date</th>\n",
       "      <th>source</th>\n",
       "      <th>device</th>\n",
       "      <th>browser_language</th>\n",
       "      <th>ads_channel</th>\n",
       "      <th>browser</th>\n",
       "      <th>conversion</th>\n",
       "      <th>test</th>\n",
       "      <th>sex</th>\n",
       "      <th>age</th>\n",
       "      <th>country</th>\n",
       "    </tr>\n",
       "  </thead>\n",
       "  <tbody>\n",
       "    <tr>\n",
       "      <th>0</th>\n",
       "      <td>315281</td>\n",
       "      <td>2015-12-03</td>\n",
       "      <td>Direct</td>\n",
       "      <td>Web</td>\n",
       "      <td>ES</td>\n",
       "      <td>NaN</td>\n",
       "      <td>IE</td>\n",
       "      <td>1</td>\n",
       "      <td>0</td>\n",
       "      <td>M</td>\n",
       "      <td>32.0</td>\n",
       "      <td>Spain</td>\n",
       "    </tr>\n",
       "    <tr>\n",
       "      <th>1</th>\n",
       "      <td>497851</td>\n",
       "      <td>2015-12-04</td>\n",
       "      <td>Ads</td>\n",
       "      <td>Web</td>\n",
       "      <td>ES</td>\n",
       "      <td>Google</td>\n",
       "      <td>IE</td>\n",
       "      <td>0</td>\n",
       "      <td>1</td>\n",
       "      <td>M</td>\n",
       "      <td>21.0</td>\n",
       "      <td>Mexico</td>\n",
       "    </tr>\n",
       "    <tr>\n",
       "      <th>2</th>\n",
       "      <td>848402</td>\n",
       "      <td>2015-12-04</td>\n",
       "      <td>Ads</td>\n",
       "      <td>Web</td>\n",
       "      <td>ES</td>\n",
       "      <td>Facebook</td>\n",
       "      <td>Chrome</td>\n",
       "      <td>0</td>\n",
       "      <td>0</td>\n",
       "      <td>M</td>\n",
       "      <td>34.0</td>\n",
       "      <td>Spain</td>\n",
       "    </tr>\n",
       "    <tr>\n",
       "      <th>3</th>\n",
       "      <td>290051</td>\n",
       "      <td>2015-12-03</td>\n",
       "      <td>Ads</td>\n",
       "      <td>Mobile</td>\n",
       "      <td>Other</td>\n",
       "      <td>Facebook</td>\n",
       "      <td>Android_App</td>\n",
       "      <td>0</td>\n",
       "      <td>1</td>\n",
       "      <td>F</td>\n",
       "      <td>22.0</td>\n",
       "      <td>Mexico</td>\n",
       "    </tr>\n",
       "    <tr>\n",
       "      <th>4</th>\n",
       "      <td>548435</td>\n",
       "      <td>2015-11-30</td>\n",
       "      <td>Ads</td>\n",
       "      <td>Web</td>\n",
       "      <td>ES</td>\n",
       "      <td>Google</td>\n",
       "      <td>FireFox</td>\n",
       "      <td>0</td>\n",
       "      <td>1</td>\n",
       "      <td>M</td>\n",
       "      <td>19.0</td>\n",
       "      <td>Mexico</td>\n",
       "    </tr>\n",
       "  </tbody>\n",
       "</table>\n",
       "</div>"
      ],
      "text/plain": [
       "   user_id        date  source  device browser_language ads_channel  \\\n",
       "0   315281  2015-12-03  Direct     Web               ES         NaN   \n",
       "1   497851  2015-12-04     Ads     Web               ES      Google   \n",
       "2   848402  2015-12-04     Ads     Web               ES    Facebook   \n",
       "3   290051  2015-12-03     Ads  Mobile            Other    Facebook   \n",
       "4   548435  2015-11-30     Ads     Web               ES      Google   \n",
       "\n",
       "       browser  conversion  test sex   age country  \n",
       "0           IE           1     0   M  32.0   Spain  \n",
       "1           IE           0     1   M  21.0  Mexico  \n",
       "2       Chrome           0     0   M  34.0   Spain  \n",
       "3  Android_App           0     1   F  22.0  Mexico  \n",
       "4      FireFox           0     1   M  19.0  Mexico  "
      ]
     },
     "execution_count": 7,
     "metadata": {},
     "output_type": "execute_result"
    }
   ],
   "source": [
    "table1.head()"
   ]
  },
  {
   "cell_type": "code",
   "execution_count": 8,
   "metadata": {},
   "outputs": [],
   "source": [
    "table1 = table1[table1['country'] != 'Spain']"
   ]
  },
  {
   "cell_type": "code",
   "execution_count": 126,
   "metadata": {},
   "outputs": [],
   "source": [
    "date_counts = Counter(table1.date)"
   ]
  },
  {
   "cell_type": "code",
   "execution_count": 131,
   "metadata": {},
   "outputs": [
    {
     "data": {
      "text/plain": [
       "[('2015-12-02', 62488),\n",
       " ('2015-11-30', 62903),\n",
       " ('2015-12-01', 62911),\n",
       " ('2015-12-03', 88204),\n",
       " ('2015-12-04', 125033)]"
      ]
     },
     "execution_count": 131,
     "metadata": {},
     "output_type": "execute_result"
    }
   ],
   "source": [
    "#sorted(date_counts.values())\n",
    "\n",
    "# sort by value\n",
    "sorted_by_value = sorted(date_counts.items(), key = lambda kv: kv[1])\n",
    "sorted_by_value"
   ]
  },
  {
   "cell_type": "code",
   "execution_count": 129,
   "metadata": {},
   "outputs": [
    {
     "data": {
      "text/plain": [
       "[('2015-12-02', 62488),\n",
       " ('2015-11-30', 62903),\n",
       " ('2015-12-01', 62911),\n",
       " ('2015-12-03', 88204),\n",
       " ('2015-12-04', 125033)]"
      ]
     },
     "execution_count": 129,
     "metadata": {},
     "output_type": "execute_result"
    }
   ],
   "source": [
    "date_counts.most_common()[::-1]"
   ]
  },
  {
   "cell_type": "code",
   "execution_count": null,
   "metadata": {},
   "outputs": [],
   "source": []
  },
  {
   "cell_type": "code",
   "execution_count": null,
   "metadata": {},
   "outputs": [],
   "source": []
  },
  {
   "cell_type": "code",
   "execution_count": null,
   "metadata": {},
   "outputs": [],
   "source": []
  },
  {
   "cell_type": "code",
   "execution_count": null,
   "metadata": {},
   "outputs": [],
   "source": []
  },
  {
   "cell_type": "code",
   "execution_count": null,
   "metadata": {},
   "outputs": [],
   "source": []
  },
  {
   "cell_type": "code",
   "execution_count": 10,
   "metadata": {},
   "outputs": [],
   "source": [
    "test_group = table1[table1['test'] == 1]\n",
    "control_group = table1[table1['test'] == 0]"
   ]
  },
  {
   "cell_type": "code",
   "execution_count": 29,
   "metadata": {},
   "outputs": [],
   "source": [
    "test_by_date = test_group.groupby(['date']).agg({'conversion': 'mean'})\n",
    "control_by_date = control_group.groupby(['date']).agg({'conversion': 'mean'})"
   ]
  },
  {
   "cell_type": "code",
   "execution_count": 45,
   "metadata": {},
   "outputs": [
    {
     "data": {
      "image/png": "[encoded data removed]",
      "text/plain": [
       "<Figure size 1008x432 with 1 Axes>"
      ]
     },
     "metadata": {},
     "output_type": "display_data"
    }
   ],
   "source": [
    "fig, ax = plt.subplots(figsize=(14, 6))\n",
    "\n",
    "ax = sns.lineplot(x = test_by_date.index, y = 'conversion', data = test_by_date, label = 'test')\n",
    "ax = sns.lineplot(x = control_by_date.index, y = 'conversion', data = control_by_date, label = 'control')\n",
    "ax.set_title('Control vs Test - Conversion per day', fontsize=16)\n",
    "plt.show()"
   ]
  },
  {
   "cell_type": "markdown",
   "metadata": {},
   "source": [
    "We can see that for every single day, the test result is much lower than the control group. There could be some bias on the assignment setup."
   ]
  },
  {
   "cell_type": "code",
   "execution_count": 61,
   "metadata": {},
   "outputs": [],
   "source": [
    "#table1_variables = table1.drop(['test'], axis = 1)\n",
    "mexico_data = table1[table1.country == 'Mexico']\n",
    "mexico_data_variables = mexico_data.drop(['test', 'country'], axis=1)\n",
    "\n",
    "\n",
    "X = mexico_data_variables\n",
    "y = mexico_data['test']\n"
   ]
  },
  {
   "cell_type": "code",
   "execution_count": null,
   "metadata": {},
   "outputs": [],
   "source": []
  },
  {
   "cell_type": "code",
   "execution_count": null,
   "metadata": {},
   "outputs": [],
   "source": []
  },
  {
   "cell_type": "code",
   "execution_count": null,
   "metadata": {},
   "outputs": [],
   "source": []
  },
  {
   "cell_type": "code",
   "execution_count": null,
   "metadata": {},
   "outputs": [],
   "source": []
  },
  {
   "cell_type": "markdown",
   "metadata": {},
   "source": [
    "***"
   ]
  },
  {
   "cell_type": "code",
   "execution_count": 66,
   "metadata": {},
   "outputs": [],
   "source": [
    "sample =[[1, 3, 2, 5, 7, 9, 4, 6, 8]\n",
    "        ,[4, 9, 8, 2, 6, 1, 3, 7, 5]\n",
    "        ,[7, 5, 6, 3, 8, 4, 2, 1, 9]\n",
    "        ,[6, 4, 3, 1, 5, 8, 7, 9, 2]\n",
    "        ,[5, 2, 1, 7, 9, 3, 8, 4, 6]\n",
    "        ,[9, 8, 7, 4, 2, 6, 5, 3, 1]\n",
    "        ,[2, 1, 4, 9, 3, 5, 6, 8, 7]\n",
    "        ,[3, 6, 5, 8, 1, 7, 9, 2, 4]\n",
    "        ,[8, 7, 9, 6, 4, 2, 1, 5, 3]]"
   ]
  },
  {
   "cell_type": "code",
   "execution_count": 75,
   "metadata": {},
   "outputs": [
    {
     "name": "stdout",
     "output_type": "stream",
     "text": [
      "[1, 4, 7, 6, 5, 9, 2, 3, 8]\n",
      "[3, 9, 5, 4, 2, 8, 1, 6, 7]\n",
      "[2, 8, 6, 3, 1, 7, 4, 5, 9]\n",
      "[5, 2, 3, 1, 7, 4, 9, 8, 6]\n",
      "[7, 6, 8, 5, 9, 2, 3, 1, 4]\n",
      "[9, 1, 4, 8, 3, 6, 5, 7, 2]\n",
      "[4, 3, 2, 7, 8, 5, 6, 9, 1]\n",
      "[6, 7, 1, 9, 4, 3, 8, 2, 5]\n",
      "[8, 5, 9, 2, 6, 1, 7, 4, 3]\n"
     ]
    }
   ],
   "source": [
    "for i in range(len(sample)):\n",
    "    temp = []\n",
    "    for j in range(len(sample[i])):   \n",
    "        temp.append(sample[j][i])\n",
    "        #print(j, '\\t', sample[j][i])\n",
    "    print(temp)"
   ]
  },
  {
   "cell_type": "code",
   "execution_count": 110,
   "metadata": {},
   "outputs": [
    {
     "name": "stdout",
     "output_type": "stream",
     "text": [
      "[1, 3, 2, 4, 9, 8, 7, 5, 6]\n",
      "[6, 4, 3, 5, 2, 1, 9, 8, 7]\n",
      "[2, 1, 4, 3, 6, 5, 8, 7, 9]\n",
      "[5, 7, 9, 2, 6, 1, 3, 8, 4]\n",
      "[1, 5, 8, 7, 9, 3, 4, 2, 6]\n",
      "[9, 3, 5, 8, 1, 7, 6, 4, 2]\n",
      "[4, 6, 8, 3, 7, 5, 2, 1, 9]\n",
      "[7, 9, 2, 8, 4, 6, 5, 3, 1]\n",
      "[6, 8, 7, 9, 2, 4, 1, 5, 3]\n"
     ]
    }
   ],
   "source": [
    "\n",
    "for j in range(0, len(sample), 3):    \n",
    "    \n",
    "    for i in range(0, len(sample), 3):\n",
    "        temp = sample[i][j:j+3] + sample[i+1][j:j+3] + sample[i+2][j:j+3]\n",
    "\n",
    "        print(temp)        \n",
    "        #for j in range(0, len(sample), 3):\n",
    "         #   print(i, j, j+3, '\\t', sample[i][j:j+3] + sample[i+1][j:j+3] + sample[i+2][j:j+3])"
   ]
  },
  {
   "cell_type": "code",
   "execution_count": 91,
   "metadata": {},
   "outputs": [
    {
     "data": {
      "text/plain": [
       "{1, 2, 3, 4, 5, 6, 7, 8, 9}"
      ]
     },
     "execution_count": 91,
     "metadata": {},
     "output_type": "execute_result"
    }
   ],
   "source": [
    "set(sample[0][0:3] +\n",
    "sample[1][0:3] +\n",
    "sample[2][0:3])"
   ]
  },
  {
   "cell_type": "code",
   "execution_count": 116,
   "metadata": {},
   "outputs": [
    {
     "name": "stdout",
     "output_type": "stream",
     "text": [
      "[1, 3, 2, 5, 7, 9, 4, 6, 8] [4, 9, 8, 2, 6, 1, 3, 7, 5] [7, 5, 6, 3, 8, 4, 2, 1, 9] [6, 4, 3, 1, 5, 8, 7, 9, 2] [5, 2, 1, 7, 9, 3, 8, 4, 6] [9, 8, 7, 4, 2, 6, 5, 3, 1] [2, 1, 4, 9, 3, 5, 6, 8, 7] [3, 6, 5, 8, 1, 7, 9, 2, 4] [8, 7, 9, 6, 4, 2, 1, 5, 3]\n",
      "[1, 3, 2, 5, 7, 9, 4, 6, 8] [4, 9, 8, 2, 6, 1, 3, 7, 5] [7, 5, 6, 3, 8, 4, 2, 1, 9] [6, 4, 3, 1, 5, 8, 7, 9, 2] [5, 2, 1, 7, 9, 3, 8, 4, 6] [9, 8, 7, 4, 2, 6, 5, 3, 1] [2, 1, 4, 9, 3, 5, 6, 8, 7] [3, 6, 5, 8, 1, 7, 9, 2, 4] [8, 7, 9, 6, 4, 2, 1, 5, 3]\n",
      "[1, 3, 2, 5, 7, 9, 4, 6, 8] [4, 9, 8, 2, 6, 1, 3, 7, 5] [7, 5, 6, 3, 8, 4, 2, 1, 9] [6, 4, 3, 1, 5, 8, 7, 9, 2] [5, 2, 1, 7, 9, 3, 8, 4, 6] [9, 8, 7, 4, 2, 6, 5, 3, 1] [2, 1, 4, 9, 3, 5, 6, 8, 7] [3, 6, 5, 8, 1, 7, 9, 2, 4] [8, 7, 9, 6, 4, 2, 1, 5, 3]\n",
      "[1, 3, 2, 5, 7, 9, 4, 6, 8] [4, 9, 8, 2, 6, 1, 3, 7, 5] [7, 5, 6, 3, 8, 4, 2, 1, 9] [6, 4, 3, 1, 5, 8, 7, 9, 2] [5, 2, 1, 7, 9, 3, 8, 4, 6] [9, 8, 7, 4, 2, 6, 5, 3, 1] [2, 1, 4, 9, 3, 5, 6, 8, 7] [3, 6, 5, 8, 1, 7, 9, 2, 4] [8, 7, 9, 6, 4, 2, 1, 5, 3]\n",
      "[1, 3, 2, 5, 7, 9, 4, 6, 8] [4, 9, 8, 2, 6, 1, 3, 7, 5] [7, 5, 6, 3, 8, 4, 2, 1, 9] [6, 4, 3, 1, 5, 8, 7, 9, 2] [5, 2, 1, 7, 9, 3, 8, 4, 6] [9, 8, 7, 4, 2, 6, 5, 3, 1] [2, 1, 4, 9, 3, 5, 6, 8, 7] [3, 6, 5, 8, 1, 7, 9, 2, 4] [8, 7, 9, 6, 4, 2, 1, 5, 3]\n",
      "[1, 3, 2, 5, 7, 9, 4, 6, 8] [4, 9, 8, 2, 6, 1, 3, 7, 5] [7, 5, 6, 3, 8, 4, 2, 1, 9] [6, 4, 3, 1, 5, 8, 7, 9, 2] [5, 2, 1, 7, 9, 3, 8, 4, 6] [9, 8, 7, 4, 2, 6, 5, 3, 1] [2, 1, 4, 9, 3, 5, 6, 8, 7] [3, 6, 5, 8, 1, 7, 9, 2, 4] [8, 7, 9, 6, 4, 2, 1, 5, 3]\n",
      "[1, 3, 2, 5, 7, 9, 4, 6, 8] [4, 9, 8, 2, 6, 1, 3, 7, 5] [7, 5, 6, 3, 8, 4, 2, 1, 9] [6, 4, 3, 1, 5, 8, 7, 9, 2] [5, 2, 1, 7, 9, 3, 8, 4, 6] [9, 8, 7, 4, 2, 6, 5, 3, 1] [2, 1, 4, 9, 3, 5, 6, 8, 7] [3, 6, 5, 8, 1, 7, 9, 2, 4] [8, 7, 9, 6, 4, 2, 1, 5, 3]\n",
      "[1, 3, 2, 5, 7, 9, 4, 6, 8] [4, 9, 8, 2, 6, 1, 3, 7, 5] [7, 5, 6, 3, 8, 4, 2, 1, 9] [6, 4, 3, 1, 5, 8, 7, 9, 2] [5, 2, 1, 7, 9, 3, 8, 4, 6] [9, 8, 7, 4, 2, 6, 5, 3, 1] [2, 1, 4, 9, 3, 5, 6, 8, 7] [3, 6, 5, 8, 1, 7, 9, 2, 4] [8, 7, 9, 6, 4, 2, 1, 5, 3]\n",
      "[1, 3, 2, 5, 7, 9, 4, 6, 8] [4, 9, 8, 2, 6, 1, 3, 7, 5] [7, 5, 6, 3, 8, 4, 2, 1, 9] [6, 4, 3, 1, 5, 8, 7, 9, 2] [5, 2, 1, 7, 9, 3, 8, 4, 6] [9, 8, 7, 4, 2, 6, 5, 3, 1] [2, 1, 4, 9, 3, 5, 6, 8, 7] [3, 6, 5, 8, 1, 7, 9, 2, 4] [8, 7, 9, 6, 4, 2, 1, 5, 3]\n"
     ]
    }
   ],
   "source": [
    "for column in zip(*sample):\n",
    "    #print (column)\n",
    "    print(*sample)"
   ]
  },
  {
   "cell_type": "code",
   "execution_count": 119,
   "metadata": {},
   "outputs": [
    {
     "data": {
      "text/plain": [
       "[[1, 4, 7], [2, 5, 8], [3, 6, 9]]"
      ]
     },
     "execution_count": 119,
     "metadata": {},
     "output_type": "execute_result"
    }
   ],
   "source": [
    "[list(a) for a in zip([1,2,3], [4,5,6], [7,8,9])]"
   ]
  },
  {
   "cell_type": "code",
   "execution_count": 120,
   "metadata": {},
   "outputs": [
    {
     "data": {
      "text/plain": [
       "<zip at 0x1a2acb87c8>"
      ]
     },
     "execution_count": 120,
     "metadata": {},
     "output_type": "execute_result"
    }
   ],
   "source": [
    "zip([1,2,3], [4,5,6], [7,8,9])"
   ]
  },
  {
   "cell_type": "code",
   "execution_count": 121,
   "metadata": {},
   "outputs": [],
   "source": [
    "test = [[1,2,3], [4,5,6], [7,8,9]]"
   ]
  },
  {
   "cell_type": "code",
   "execution_count": 124,
   "metadata": {},
   "outputs": [
    {
     "name": "stdout",
     "output_type": "stream",
     "text": [
      "(1, 4, 7)\n",
      "(2, 5, 8)\n",
      "(3, 6, 9)\n"
     ]
    }
   ],
   "source": [
    "for i in zip(*test):\n",
    "    print (i)"
   ]
  },
  {
   "cell_type": "code",
   "execution_count": null,
   "metadata": {},
   "outputs": [],
   "source": []
  }
 ],
 "metadata": {
  "kernelspec": {
   "display_name": "Python 3",
   "language": "python",
   "name": "python3"
  },
  "language_info": {
   "codemirror_mode": {
    "name": "ipython",
    "version": 3
   },
   "file_extension": ".py",
   "mimetype": "text/x-python",
   "name": "python",
   "nbconvert_exporter": "python",
   "pygments_lexer": "ipython3",
   "version": "3.6.4"
  }
 },
 "nbformat": 4,
 "nbformat_minor": 2
}
