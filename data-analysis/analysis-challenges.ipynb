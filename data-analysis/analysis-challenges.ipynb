{
 "cells": [
  {
   "cell_type": "markdown",
   "metadata": {},
   "source": [
    "##  A Collection of Data Science Take-Home Challenges \n",
    "[A Collection of Data Science Take-Home Challenges](#https://datamasked.com/).\n"
   ]
  },
  {
   "cell_type": "markdown",
   "metadata": {},
   "source": [
    "### How would you improve engagement in FB?\n",
    "Most case studies start with a vague goal, hence need to\n",
    "\n",
    "   1. define concrete **metric** \n",
    "        - something measureable and relates to company's mission)\n",
    "   2. pick relevant **variables** \n",
    "        -(sex, age, country, number of friends and etc) related to their browsing/online behavior(device, channels they come from ads/SEO, session time, etc)\n",
    "   3. pick a model to predict the metric by the variables you selected\n",
    "        - explain the reasoning on your selected model (i.e random forest (tree-based) b/c it works well(high accuracy) in high dimension, with categorical variables and outliers)\n",
    "   4. analysis/conclusion\n",
    "        - pick **one bad** and **one good** segment \n",
    "        \n",
    "        \n",
    "note: Data scientist is to suggest actions based on data (i.e start with data, then make actionable suggestions)"
   ]
  },
  {
   "cell_type": "markdown",
   "metadata": {},
   "source": [
    "### Approach\n",
    "1. check the quality of data\n",
    "2. don't overspend time to optimize model, instead, explain your reasoning on why did you pick that model, and how would you improve/optimize it if you were given more time\n",
    "3. focus on how the business would benefit on your analysis\n",
    "\n"
   ]
  },
  {
   "cell_type": "markdown",
   "metadata": {},
   "source": [
    "-----"
   ]
  },
  {
   "cell_type": "markdown",
   "metadata": {},
   "source": [
    "# Pramp practice interviews"
   ]
  },
  {
   "cell_type": "markdown",
   "metadata": {},
   "source": [
    "### January 25, 2018\n",
    "\n",
    "### 1\\. Pramp Engagement\n",
    "\n",
    "You’re a data scientist at Pramp and the product team wants to improve user engagement. What metrics would you choose and how would you tackle this?\n",
    "\n",
    "\n",
    "### Answer:\n",
    "\n",
    "#### Objective: improve user engagement\n",
    "\n",
    "Some examples of metrics that Pramp would be interested to investigate:\n",
    "\n",
    "- numbers of monthly active users \n",
    "- numbers of sessions of each user each month \n",
    "- numbers of users churn after three months (retention)\n",
    "\n",
    "\n",
    "If we are interested to look for how many active users, then we want to define what are the factors that determines an user is **active**.\n",
    "\n",
    "For example, these are the two criterias:\n",
    "- attended 4 or more session each month\n",
    "- no show score is less than 90%\n",
    "\n",
    "1\\. Then, we would grab a set of 6-12 months data, and feature engineer **active** and **non-active** labels for all the users.\n",
    "\n",
    "\n",
    "2a\\. Train and build a model to predict the future income traffic data. \n",
    "\n",
    "2b\\. Model Selection: random forest and then look at the feature importance to find out what factors are affecting the predictions \n",
    "\n",
    "3\\. Assume the top three features in the feature importance chart are: no show rate, ratings of the user, and rating of the interviewers.\n",
    "\n",
    "A recommendated solution might be to set up a team to investigate if the users had a bad experience on their few tries of the session.  Then see if we can reduce the no show rate with some implementation of stricter rules. \n",
    "\n",
    "\n",
    "\n",
    "\n",
    "\n",
    "\n",
    " \n"
   ]
  },
  {
   "cell_type": "markdown",
   "metadata": {},
   "source": [
    "----"
   ]
  },
  {
   "cell_type": "markdown",
   "metadata": {},
   "source": [
    "### One of the take-home challenge samples from Galvanize's interview preparation repository"
   ]
  },
  {
   "cell_type": "code",
   "execution_count": 1,
   "metadata": {},
   "outputs": [],
   "source": [
    "import pandas as pd\n",
    "import matplotlib.pyplot as plt\n",
    "from matplotlib.pyplot import figure, hold, ylim, legend, boxplot, setp, axes\n",
    "%matplotlib inline"
   ]
  },
  {
   "cell_type": "markdown",
   "metadata": {},
   "source": [
    "## Context"
   ]
  },
  {
   "cell_type": "markdown",
   "metadata": {},
   "source": [
    "#### There are 2 tasks:\n",
    "\n",
    "Collect metrics of interest.\n",
    "Offer insights for how we could improve CPM.\n",
    "The first task requires specific metrics collection: Find the conversion rate and CPM per campaign within each application. Include all of the code you need to transform and calculate the data.\n",
    "\n",
    "The second goal is more of an open ended question and involves writing about your methods and reasoning: Given the data that was collected in the first task, what are some metrics we can calculate to give us insights as to how to improve CPM? For this second question, if you don't have enough data or would like to have additional data, please specify the format of the data(the columns in each file) that you would like to have and desscribe your transformations to acquire the information that you need.\n",
    "\n"
   ]
  },
  {
   "cell_type": "markdown",
   "metadata": {},
   "source": [
    "## Backgound"
   ]
  },
  {
   "cell_type": "markdown",
   "metadata": {},
   "source": [
    "**CPM** - cost per 1000 impression\n",
    "\n",
    "Formula: CPM = (total cost of campaign * 1000) / total number of impressions\n",
    "\n",
    "Since the question of this practice is weakly defined and missing a lot of imformations. I will define some assumptions for this questions. \n",
    "\n",
    "1. the number of *offers* will be \"impressions\" and the number of *engagement* will be \"clicks\"\n",
    "2. the campaign cost is missing - I will set all the campaign costs to 1,000\n",
    "\n",
    "\n",
    "**Campaign** - a specific, defined series of activities used in marketing a new or changed product or service\n"
   ]
  },
  {
   "cell_type": "markdown",
   "metadata": {},
   "source": [
    "***"
   ]
  },
  {
   "cell_type": "markdown",
   "metadata": {},
   "source": [
    "## Task 1 - Calculate conversion rate and CPM"
   ]
  },
  {
   "cell_type": "code",
   "execution_count": 2,
   "metadata": {},
   "outputs": [],
   "source": [
    "engagement = pd.read_csv('https://raw.githubusercontent.com/gSchool/dsi-interview-prep/master/interview_questions/takehomes/takehome1/example_engagements.csv?token=AfcppxqXZaAL5zIr5EjjiNTdiAyin4Odks5cFD4EwA%3D%3D')"
   ]
  },
  {
   "cell_type": "code",
   "execution_count": 3,
   "metadata": {},
   "outputs": [],
   "source": [
    "offers = pd.read_csv('https://raw.githubusercontent.com/gSchool/dsi-interview-prep/master/interview_questions/takehomes/takehome1/example_offers.csv?token=AfcppzaFmL-AsJKiJoUDUkB7F-lb2FqEks5cFD4pwA%3D%3D')"
   ]
  },
  {
   "cell_type": "markdown",
   "metadata": {},
   "source": [
    "#### Simple EDA"
   ]
  },
  {
   "cell_type": "code",
   "execution_count": 4,
   "metadata": {},
   "outputs": [
    {
     "data": {
      "text/html": [
       "<div>\n",
       "<style scoped>\n",
       "    .dataframe tbody tr th:only-of-type {\n",
       "        vertical-align: middle;\n",
       "    }\n",
       "\n",
       "    .dataframe tbody tr th {\n",
       "        vertical-align: top;\n",
       "    }\n",
       "\n",
       "    .dataframe thead th {\n",
       "        text-align: right;\n",
       "    }\n",
       "</style>\n",
       "<table border=\"1\" class=\"dataframe\">\n",
       "  <thead>\n",
       "    <tr style=\"text-align: right;\">\n",
       "      <th></th>\n",
       "      <th>Unnamed: 0</th>\n",
       "      <th>revenue</th>\n",
       "      <th>reward_id</th>\n",
       "      <th>campaign_id</th>\n",
       "      <th>application_id</th>\n",
       "    </tr>\n",
       "  </thead>\n",
       "  <tbody>\n",
       "    <tr>\n",
       "      <th>0</th>\n",
       "      <td>2014-07-26 00:00:29.257095</td>\n",
       "      <td>0.499</td>\n",
       "      <td>53d2ef9d-361c-c0d1-9015-6525c28c8564</td>\n",
       "      <td>18</td>\n",
       "      <td>3</td>\n",
       "    </tr>\n",
       "    <tr>\n",
       "      <th>1</th>\n",
       "      <td>2014-07-26 00:00:30.468959</td>\n",
       "      <td>0.149</td>\n",
       "      <td>53d2ef9e-72f3-84bf-a243-78ae58d1626f</td>\n",
       "      <td>4</td>\n",
       "      <td>0</td>\n",
       "    </tr>\n",
       "    <tr>\n",
       "      <th>2</th>\n",
       "      <td>2014-07-26 00:00:43.396503</td>\n",
       "      <td>0.149</td>\n",
       "      <td>53d2efab-91fb-ec54-3435-40a502e34e83</td>\n",
       "      <td>4</td>\n",
       "      <td>3</td>\n",
       "    </tr>\n",
       "    <tr>\n",
       "      <th>3</th>\n",
       "      <td>2014-07-26 00:01:01.234404</td>\n",
       "      <td>0.149</td>\n",
       "      <td>53d2efbd-8f91-db89-12d3-c373bcde9c30</td>\n",
       "      <td>4</td>\n",
       "      <td>3</td>\n",
       "    </tr>\n",
       "    <tr>\n",
       "      <th>4</th>\n",
       "      <td>2014-07-26 00:01:15.100982</td>\n",
       "      <td>0.149</td>\n",
       "      <td>53d2efcb-3e74-a234-f986-938765766950</td>\n",
       "      <td>4</td>\n",
       "      <td>0</td>\n",
       "    </tr>\n",
       "  </tbody>\n",
       "</table>\n",
       "</div>"
      ],
      "text/plain": [
       "                   Unnamed: 0  revenue                             reward_id  \\\n",
       "0  2014-07-26 00:00:29.257095    0.499  53d2ef9d-361c-c0d1-9015-6525c28c8564   \n",
       "1  2014-07-26 00:00:30.468959    0.149  53d2ef9e-72f3-84bf-a243-78ae58d1626f   \n",
       "2  2014-07-26 00:00:43.396503    0.149  53d2efab-91fb-ec54-3435-40a502e34e83   \n",
       "3  2014-07-26 00:01:01.234404    0.149  53d2efbd-8f91-db89-12d3-c373bcde9c30   \n",
       "4  2014-07-26 00:01:15.100982    0.149  53d2efcb-3e74-a234-f986-938765766950   \n",
       "\n",
       "   campaign_id  application_id  \n",
       "0           18               3  \n",
       "1            4               0  \n",
       "2            4               3  \n",
       "3            4               3  \n",
       "4            4               0  "
      ]
     },
     "execution_count": 4,
     "metadata": {},
     "output_type": "execute_result"
    }
   ],
   "source": [
    "engagement.head(5)"
   ]
  },
  {
   "cell_type": "code",
   "execution_count": 5,
   "metadata": {},
   "outputs": [
    {
     "name": "stdout",
     "output_type": "stream",
     "text": [
      "<class 'pandas.core.frame.DataFrame'>\n",
      "RangeIndex: 2441 entries, 0 to 2440\n",
      "Data columns (total 5 columns):\n",
      "Unnamed: 0        2441 non-null object\n",
      "revenue           2441 non-null float64\n",
      "reward_id         2441 non-null object\n",
      "campaign_id       2441 non-null int64\n",
      "application_id    2441 non-null int64\n",
      "dtypes: float64(1), int64(2), object(2)\n",
      "memory usage: 95.4+ KB\n"
     ]
    }
   ],
   "source": [
    "engagement.info()"
   ]
  },
  {
   "cell_type": "code",
   "execution_count": 6,
   "metadata": {},
   "outputs": [],
   "source": [
    "set(engagement.revenue);"
   ]
  },
  {
   "cell_type": "code",
   "execution_count": 7,
   "metadata": {},
   "outputs": [
    {
     "data": {
      "text/html": [
       "<div>\n",
       "<style scoped>\n",
       "    .dataframe tbody tr th:only-of-type {\n",
       "        vertical-align: middle;\n",
       "    }\n",
       "\n",
       "    .dataframe tbody tr th {\n",
       "        vertical-align: top;\n",
       "    }\n",
       "\n",
       "    .dataframe thead th {\n",
       "        text-align: right;\n",
       "    }\n",
       "</style>\n",
       "<table border=\"1\" class=\"dataframe\">\n",
       "  <thead>\n",
       "    <tr style=\"text-align: right;\">\n",
       "      <th></th>\n",
       "      <th>Unnamed: 0</th>\n",
       "      <th>reward_id</th>\n",
       "      <th>application_id</th>\n",
       "      <th>campaign_id</th>\n",
       "    </tr>\n",
       "  </thead>\n",
       "  <tbody>\n",
       "    <tr>\n",
       "      <th>0</th>\n",
       "      <td>2014-07-26 00:00:02.995009</td>\n",
       "      <td>53d2ef83-0008-50fd-80b6-022bd353332d</td>\n",
       "      <td>0</td>\n",
       "      <td>0</td>\n",
       "    </tr>\n",
       "    <tr>\n",
       "      <th>1</th>\n",
       "      <td>2014-07-26 00:00:03.114537</td>\n",
       "      <td>53d2ef83-1860-7515-2f58-bc73db3b6ce8</td>\n",
       "      <td>1</td>\n",
       "      <td>1</td>\n",
       "    </tr>\n",
       "    <tr>\n",
       "      <th>2</th>\n",
       "      <td>2014-07-26 00:00:03.738329</td>\n",
       "      <td>53d2ef83-dc59-4efc-8e6d-1840b994e96d</td>\n",
       "      <td>0</td>\n",
       "      <td>2</td>\n",
       "    </tr>\n",
       "    <tr>\n",
       "      <th>3</th>\n",
       "      <td>2014-07-26 00:00:04.333408</td>\n",
       "      <td>53d2ef84-ef12-f2f9-799f-d549f4acf691</td>\n",
       "      <td>1</td>\n",
       "      <td>0</td>\n",
       "    </tr>\n",
       "    <tr>\n",
       "      <th>4</th>\n",
       "      <td>2014-07-26 00:00:05.023120</td>\n",
       "      <td>53d2ef85-a900-e839-b0e5-4d07d619fa58</td>\n",
       "      <td>0</td>\n",
       "      <td>0</td>\n",
       "    </tr>\n",
       "  </tbody>\n",
       "</table>\n",
       "</div>"
      ],
      "text/plain": [
       "                   Unnamed: 0                             reward_id  \\\n",
       "0  2014-07-26 00:00:02.995009  53d2ef83-0008-50fd-80b6-022bd353332d   \n",
       "1  2014-07-26 00:00:03.114537  53d2ef83-1860-7515-2f58-bc73db3b6ce8   \n",
       "2  2014-07-26 00:00:03.738329  53d2ef83-dc59-4efc-8e6d-1840b994e96d   \n",
       "3  2014-07-26 00:00:04.333408  53d2ef84-ef12-f2f9-799f-d549f4acf691   \n",
       "4  2014-07-26 00:00:05.023120  53d2ef85-a900-e839-b0e5-4d07d619fa58   \n",
       "\n",
       "   application_id  campaign_id  \n",
       "0               0            0  \n",
       "1               1            1  \n",
       "2               0            2  \n",
       "3               1            0  \n",
       "4               0            0  "
      ]
     },
     "execution_count": 7,
     "metadata": {},
     "output_type": "execute_result"
    }
   ],
   "source": [
    "offers.head()"
   ]
  },
  {
   "cell_type": "markdown",
   "metadata": {},
   "source": [
    "### Conversion"
   ]
  },
  {
   "cell_type": "markdown",
   "metadata": {},
   "source": [
    "#### Outer join two tables by application id, campaign id, and reward id"
   ]
  },
  {
   "cell_type": "code",
   "execution_count": 8,
   "metadata": {},
   "outputs": [
    {
     "data": {
      "text/html": [
       "<div>\n",
       "<style scoped>\n",
       "    .dataframe tbody tr th:only-of-type {\n",
       "        vertical-align: middle;\n",
       "    }\n",
       "\n",
       "    .dataframe tbody tr th {\n",
       "        vertical-align: top;\n",
       "    }\n",
       "\n",
       "    .dataframe thead th {\n",
       "        text-align: right;\n",
       "    }\n",
       "</style>\n",
       "<table border=\"1\" class=\"dataframe\">\n",
       "  <thead>\n",
       "    <tr style=\"text-align: right;\">\n",
       "      <th></th>\n",
       "      <th>Unnamed: 0_x</th>\n",
       "      <th>reward_id</th>\n",
       "      <th>application_id</th>\n",
       "      <th>campaign_id</th>\n",
       "      <th>Unnamed: 0_y</th>\n",
       "      <th>revenue</th>\n",
       "    </tr>\n",
       "  </thead>\n",
       "  <tbody>\n",
       "    <tr>\n",
       "      <th>0</th>\n",
       "      <td>2014-07-26 00:00:02.995009</td>\n",
       "      <td>53d2ef83-0008-50fd-80b6-022bd353332d</td>\n",
       "      <td>0</td>\n",
       "      <td>0</td>\n",
       "      <td>NaN</td>\n",
       "      <td>NaN</td>\n",
       "    </tr>\n",
       "    <tr>\n",
       "      <th>1</th>\n",
       "      <td>2014-07-26 00:00:03.114537</td>\n",
       "      <td>53d2ef83-1860-7515-2f58-bc73db3b6ce8</td>\n",
       "      <td>1</td>\n",
       "      <td>1</td>\n",
       "      <td>NaN</td>\n",
       "      <td>NaN</td>\n",
       "    </tr>\n",
       "    <tr>\n",
       "      <th>2</th>\n",
       "      <td>2014-07-26 00:00:03.738329</td>\n",
       "      <td>53d2ef83-dc59-4efc-8e6d-1840b994e96d</td>\n",
       "      <td>0</td>\n",
       "      <td>2</td>\n",
       "      <td>NaN</td>\n",
       "      <td>NaN</td>\n",
       "    </tr>\n",
       "    <tr>\n",
       "      <th>3</th>\n",
       "      <td>2014-07-26 00:00:04.333408</td>\n",
       "      <td>53d2ef84-ef12-f2f9-799f-d549f4acf691</td>\n",
       "      <td>1</td>\n",
       "      <td>0</td>\n",
       "      <td>NaN</td>\n",
       "      <td>NaN</td>\n",
       "    </tr>\n",
       "    <tr>\n",
       "      <th>4</th>\n",
       "      <td>2014-07-26 00:00:05.023120</td>\n",
       "      <td>53d2ef85-a900-e839-b0e5-4d07d619fa58</td>\n",
       "      <td>0</td>\n",
       "      <td>0</td>\n",
       "      <td>NaN</td>\n",
       "      <td>NaN</td>\n",
       "    </tr>\n",
       "  </tbody>\n",
       "</table>\n",
       "</div>"
      ],
      "text/plain": [
       "                 Unnamed: 0_x                             reward_id  \\\n",
       "0  2014-07-26 00:00:02.995009  53d2ef83-0008-50fd-80b6-022bd353332d   \n",
       "1  2014-07-26 00:00:03.114537  53d2ef83-1860-7515-2f58-bc73db3b6ce8   \n",
       "2  2014-07-26 00:00:03.738329  53d2ef83-dc59-4efc-8e6d-1840b994e96d   \n",
       "3  2014-07-26 00:00:04.333408  53d2ef84-ef12-f2f9-799f-d549f4acf691   \n",
       "4  2014-07-26 00:00:05.023120  53d2ef85-a900-e839-b0e5-4d07d619fa58   \n",
       "\n",
       "   application_id  campaign_id Unnamed: 0_y  revenue  \n",
       "0               0            0          NaN      NaN  \n",
       "1               1            1          NaN      NaN  \n",
       "2               0            2          NaN      NaN  \n",
       "3               1            0          NaN      NaN  \n",
       "4               0            0          NaN      NaN  "
      ]
     },
     "execution_count": 8,
     "metadata": {},
     "output_type": "execute_result"
    }
   ],
   "source": [
    "df = offers.merge(engagement, how = 'outer', on = ['application_id', 'campaign_id', 'reward_id'])\n",
    "df.head()"
   ]
  },
  {
   "cell_type": "code",
   "execution_count": 9,
   "metadata": {},
   "outputs": [],
   "source": [
    "df = df[['reward_id', 'application_id', 'campaign_id', 'revenue']]"
   ]
  },
  {
   "cell_type": "code",
   "execution_count": 10,
   "metadata": {},
   "outputs": [],
   "source": [
    "# number of impression - total count\n",
    "imp_count = df.groupby(['application_id', 'campaign_id'])['reward_id'].count()\n",
    "\n",
    "# number of clicks - revenue is not null\n",
    "click_count = df[df['revenue'].notnull()].groupby(['application_id', 'campaign_id'])['reward_id'].count()"
   ]
  },
  {
   "cell_type": "code",
   "execution_count": 11,
   "metadata": {},
   "outputs": [],
   "source": [
    "# change to percentage\n",
    "conversion_rate_serie = (click_count/imp_count) * 100"
   ]
  },
  {
   "cell_type": "code",
   "execution_count": 12,
   "metadata": {},
   "outputs": [],
   "source": [
    "conversion_rate_serie = conversion_rate_serie.fillna(0)"
   ]
  },
  {
   "cell_type": "code",
   "execution_count": 14,
   "metadata": {},
   "outputs": [],
   "source": [
    "conversion_df = conversion_rate_serie.to_frame()"
   ]
  },
  {
   "cell_type": "markdown",
   "metadata": {},
   "source": [
    "#### Conversion rate table"
   ]
  },
  {
   "cell_type": "code",
   "execution_count": 15,
   "metadata": {},
   "outputs": [
    {
     "data": {
      "text/html": [
       "<div>\n",
       "<style scoped>\n",
       "    .dataframe tbody tr th:only-of-type {\n",
       "        vertical-align: middle;\n",
       "    }\n",
       "\n",
       "    .dataframe tbody tr th {\n",
       "        vertical-align: top;\n",
       "    }\n",
       "\n",
       "    .dataframe thead th {\n",
       "        text-align: right;\n",
       "    }\n",
       "</style>\n",
       "<table border=\"1\" class=\"dataframe\">\n",
       "  <thead>\n",
       "    <tr style=\"text-align: right;\">\n",
       "      <th></th>\n",
       "      <th></th>\n",
       "      <th>reward_id</th>\n",
       "    </tr>\n",
       "    <tr>\n",
       "      <th>application_id</th>\n",
       "      <th>campaign_id</th>\n",
       "      <th></th>\n",
       "    </tr>\n",
       "  </thead>\n",
       "  <tbody>\n",
       "    <tr>\n",
       "      <th rowspan=\"5\" valign=\"top\">0</th>\n",
       "      <th>0</th>\n",
       "      <td>1.532567</td>\n",
       "    </tr>\n",
       "    <tr>\n",
       "      <th>2</th>\n",
       "      <td>0.370370</td>\n",
       "    </tr>\n",
       "    <tr>\n",
       "      <th>4</th>\n",
       "      <td>5.514706</td>\n",
       "    </tr>\n",
       "    <tr>\n",
       "      <th>5</th>\n",
       "      <td>2.424242</td>\n",
       "    </tr>\n",
       "    <tr>\n",
       "      <th>7</th>\n",
       "      <td>0.471945</td>\n",
       "    </tr>\n",
       "  </tbody>\n",
       "</table>\n",
       "</div>"
      ],
      "text/plain": [
       "                            reward_id\n",
       "application_id campaign_id           \n",
       "0              0             1.532567\n",
       "               2             0.370370\n",
       "               4             5.514706\n",
       "               5             2.424242\n",
       "               7             0.471945"
      ]
     },
     "execution_count": 15,
     "metadata": {},
     "output_type": "execute_result"
    }
   ],
   "source": [
    "conversion_df.head()"
   ]
  },
  {
   "cell_type": "markdown",
   "metadata": {},
   "source": [
    "### CPM"
   ]
  },
  {
   "cell_type": "markdown",
   "metadata": {},
   "source": [
    "Since I have defined the cost to be 100, the cost will 100"
   ]
  },
  {
   "cell_type": "code",
   "execution_count": 16,
   "metadata": {},
   "outputs": [],
   "source": [
    "#CPM\n",
    "\n",
    "CPM_serie = (100 * 1000)/imp_count;"
   ]
  },
  {
   "cell_type": "code",
   "execution_count": 17,
   "metadata": {},
   "outputs": [],
   "source": [
    "CPM_df = CPM_serie.to_frame()"
   ]
  },
  {
   "cell_type": "code",
   "execution_count": 18,
   "metadata": {},
   "outputs": [
    {
     "data": {
      "text/html": [
       "<div>\n",
       "<style scoped>\n",
       "    .dataframe tbody tr th:only-of-type {\n",
       "        vertical-align: middle;\n",
       "    }\n",
       "\n",
       "    .dataframe tbody tr th {\n",
       "        vertical-align: top;\n",
       "    }\n",
       "\n",
       "    .dataframe thead th {\n",
       "        text-align: right;\n",
       "    }\n",
       "</style>\n",
       "<table border=\"1\" class=\"dataframe\">\n",
       "  <thead>\n",
       "    <tr style=\"text-align: right;\">\n",
       "      <th></th>\n",
       "      <th></th>\n",
       "      <th>reward_id</th>\n",
       "    </tr>\n",
       "    <tr>\n",
       "      <th>application_id</th>\n",
       "      <th>campaign_id</th>\n",
       "      <th></th>\n",
       "    </tr>\n",
       "  </thead>\n",
       "  <tbody>\n",
       "    <tr>\n",
       "      <th rowspan=\"5\" valign=\"top\">0</th>\n",
       "      <th>0</th>\n",
       "      <td>383.141762</td>\n",
       "    </tr>\n",
       "    <tr>\n",
       "      <th>2</th>\n",
       "      <td>370.370370</td>\n",
       "    </tr>\n",
       "    <tr>\n",
       "      <th>4</th>\n",
       "      <td>18.382353</td>\n",
       "    </tr>\n",
       "    <tr>\n",
       "      <th>5</th>\n",
       "      <td>606.060606</td>\n",
       "    </tr>\n",
       "    <tr>\n",
       "      <th>7</th>\n",
       "      <td>52.438385</td>\n",
       "    </tr>\n",
       "  </tbody>\n",
       "</table>\n",
       "</div>"
      ],
      "text/plain": [
       "                             reward_id\n",
       "application_id campaign_id            \n",
       "0              0            383.141762\n",
       "               2            370.370370\n",
       "               4             18.382353\n",
       "               5            606.060606\n",
       "               7             52.438385"
      ]
     },
     "execution_count": 18,
     "metadata": {},
     "output_type": "execute_result"
    }
   ],
   "source": [
    "CPM_df.head()"
   ]
  },
  {
   "cell_type": "markdown",
   "metadata": {},
   "source": [
    "## Task 2 - Analysis"
   ]
  },
  {
   "cell_type": "markdown",
   "metadata": {},
   "source": [
    "After calculated the conversion rate and CPM above, look the who are the top 10 performancers. We can then build graphs to visualize the differences."
   ]
  }
 ],
 "metadata": {
  "kernelspec": {
   "display_name": "kammyenv",
   "language": "python",
   "name": "kammyenv"
  },
  "language_info": {
   "codemirror_mode": {
    "name": "ipython",
    "version": 3
   },
   "file_extension": ".py",
   "mimetype": "text/x-python",
   "name": "python",
   "nbconvert_exporter": "python",
   "pygments_lexer": "ipython3",
   "version": "3.6.5"
  }
 },
 "nbformat": 4,
 "nbformat_minor": 2
}
