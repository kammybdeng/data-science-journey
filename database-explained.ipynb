{
 "cells": [
  {
   "cell_type": "markdown",
   "metadata": {},
   "source": [
    "# Database Explained"
   ]
  },
  {
   "cell_type": "markdown",
   "metadata": {},
   "source": [
    "Notes from the book \"Fundamentals of Database Systems\" by Elmasri and Navathe\n",
    "\n",
    "http://iips.icci.edu.iq/images/exam/databases-ramaz.pdf"
   ]
  },
  {
   "cell_type": "markdown",
   "metadata": {},
   "source": [
    "[What is a Database?](#Database)"
   ]
  },
  {
   "cell_type": "markdown",
   "metadata": {},
   "source": [
    "***"
   ]
  },
  {
   "cell_type": "markdown",
   "metadata": {},
   "source": [
    "### Database"
   ]
  },
  {
   "cell_type": "markdown",
   "metadata": {},
   "source": [
    "![database-overview](img/database-system-overview.png)"
   ]
  },
  {
   "cell_type": "markdown",
   "metadata": {},
   "source": [
    "#### Database:\n",
    "A collection of related data (general definition). They often have more restrictions with the following implicit properties:\n",
    "    \n",
    "    - Represents some aspects of the real world (mini world)\n",
    "    - Logically coherent collection of data with some inherent meaning\n",
    "    - Designed, built and populated with data for a specific purpose\n",
    "\n",
    "What are some types of Database?\n",
    "\n",
    "   - **Traditional Database applications** - in textual and numeric forms\n",
    "   \n",
    "   - **Multimedia databases** - images, audio clips, video stream \n",
    "   \n",
    "   - **Geographic information systems(GIS)** - maps, weather data, satellite images\n"
   ]
  },
  {
   "cell_type": "markdown",
   "metadata": {},
   "source": [
    "**Database management system(DBMS)** - a collection of programs that enables users to create and maintain a database.\n",
    "\n",
    "**Meta-data** - database definition or descriptive information (in forms of catalog or dictionary)\n"
   ]
  },
  {
   "cell_type": "markdown",
   "metadata": {},
   "source": [
    "**Database system** - database + DBMS softwares\n"
   ]
  },
  {
   "cell_type": "markdown",
   "metadata": {},
   "source": [
    "### Other definitions"
   ]
  },
  {
   "cell_type": "markdown",
   "metadata": {},
   "source": [
    "Query - retrieve data\n",
    "Transaction - read data and write into database\n"
   ]
  },
  {
   "cell_type": "markdown",
   "metadata": {},
   "source": [
    "Data records - student table, grade report table, prerequisite table \n",
    "Data elements - name, class, major, etc. (in student table)\n",
    "Data type - string, integer, and etc.\n",
    "\n",
    "\n",
    "Concurrency control - ensure that several users trying to update the same data do so in a controlled manner so that the result of the updates is correct (for instance, limiting only one agent can access the seat when doing reservation)\n",
    "\n",
    "\n",
    "\n",
    "End users\n",
    "We are -> Sophisticated end users\n"
   ]
  },
  {
   "cell_type": "markdown",
   "metadata": {},
   "source": [
    "Hierarchical and Network Systems\n",
    "\n",
    "Relational Databases\n",
    "\n",
    "Object-Oriented Applications\n"
   ]
  }
 ],
 "metadata": {
  "kernelspec": {
   "display_name": "Python 3",
   "language": "python",
   "name": "python3"
  },
  "language_info": {
   "codemirror_mode": {
    "name": "ipython",
    "version": 3
   },
   "file_extension": ".py",
   "mimetype": "text/x-python",
   "name": "python",
   "nbconvert_exporter": "python",
   "pygments_lexer": "ipython3",
   "version": "3.6.4"
  }
 },
 "nbformat": 4,
 "nbformat_minor": 2
}
