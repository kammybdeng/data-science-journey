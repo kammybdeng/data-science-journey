{
 "cells": [
  {
   "cell_type": "markdown",
   "metadata": {},
   "source": [
    "# Python practices"
   ]
  },
  {
   "cell_type": "markdown",
   "metadata": {},
   "source": [
    "From different sources of coding challenges and CodeWar practices\n",
    "\n",
    "Questions are rephrased \n"
   ]
  },
  {
   "cell_type": "code",
   "execution_count": 30,
   "metadata": {},
   "outputs": [],
   "source": [
    "import pandas as pd\n",
    "import json\n",
    "import datetime\n",
    "import re"
   ]
  },
  {
   "cell_type": "markdown",
   "metadata": {},
   "source": [
    "### Problem 1:\n",
    "\n",
    "Takes in a list of restaurants location, type of cuisine, and the number of restaurants. The idea is to return an array or a list for each location with the format of:\n",
    "\n",
    "[# of American, # of Mexican, # of Seafood]"
   ]
  },
  {
   "cell_type": "markdown",
   "metadata": {},
   "source": [
    "#### Input"
   ]
  },
  {
   "cell_type": "code",
   "execution_count": 2,
   "metadata": {},
   "outputs": [],
   "source": [
    "sample = [[\"Boston\",\"Mexican\",\"163\"],\n",
    "[\"Boston\",\"Seafood\",\"194\"],\n",
    "[\"Los Angeles\",\"American\",\"1239\"],\n",
    "[\"Los Angeles\",\"Mexican\",\"1389\"],\n",
    "[\"Los Angeles\",\"Seafood\",\"456\"]]"
   ]
  },
  {
   "cell_type": "markdown",
   "metadata": {},
   "source": [
    "#### Output\n",
    "\n",
    "Explaination: For Boston, there's [0 American cuisine, 163 Mexican, 194 Seafood]\n",
    "\n",
    "Then there's another list for Los Angeles"
   ]
  },
  {
   "cell_type": "code",
   "execution_count": 74,
   "metadata": {},
   "outputs": [
    {
     "data": {
      "text/plain": [
       "[[0, 163, 194], [1239, 1389, 456]]"
      ]
     },
     "execution_count": 74,
     "metadata": {},
     "output_type": "execute_result"
    }
   ],
   "source": [
    "[[0, 163, 194], [1239, 1389, 456]]"
   ]
  },
  {
   "cell_type": "code",
   "execution_count": 4,
   "metadata": {},
   "outputs": [],
   "source": [
    "def pivot_table(inputTable):\n",
    "    \n",
    "    final = []\n",
    "    \n",
    "    df = pd.DataFrame(inputTable, columns=['city','type','amt'])\n",
    "    df['amt'] = pd.to_numeric(df['amt'])\n",
    "    \n",
    "    new_df = df.pivot(index='city', columns='type', values='amt')\n",
    "    new_df = new_df.fillna(0)\n",
    "    new_df = new_df.astype('int64', copy=False)\n",
    "    \n",
    "    for row in range(new_df.shape[0]):\n",
    "        array = new_df.iloc[[row]].values.tolist()\n",
    "        final.extend(array)\n",
    "\n",
    "    return final"
   ]
  },
  {
   "cell_type": "code",
   "execution_count": 5,
   "metadata": {},
   "outputs": [
    {
     "data": {
      "text/plain": [
       "[[0, 163, 194], [1239, 1389, 456]]"
      ]
     },
     "execution_count": 5,
     "metadata": {},
     "output_type": "execute_result"
    }
   ],
   "source": [
    "pivot_table(sample)"
   ]
  },
  {
   "cell_type": "markdown",
   "metadata": {},
   "source": [
    "### Problem 2\n"
   ]
  },
  {
   "cell_type": "code",
   "execution_count": 10,
   "metadata": {},
   "outputs": [
    {
     "name": "stdout",
     "output_type": "stream",
     "text": [
      "                                                   0\n",
      "0  {\"hours\":\\n  {\"tuesday\": [[\"11:30\", \"23:00\"]],...\n",
      "1  {\"hours\":\\n    {\"tuesday\": [[\"11:30\", \"23:00\"]...\n"
     ]
    }
   ],
   "source": [
    "businesses = pd.read_json(\"sample.json\")\n",
    "print(businesses)"
   ]
  },
  {
   "cell_type": "code",
   "execution_count": 14,
   "metadata": {},
   "outputs": [
    {
     "name": "stdout",
     "output_type": "stream",
     "text": [
      "0\n"
     ]
    }
   ],
   "source": [
    "for item in businesses:\n",
    "    print(item)"
   ]
  },
  {
   "cell_type": "code",
   "execution_count": 12,
   "metadata": {},
   "outputs": [],
   "source": [
    "def json_parsing(businesses):\n",
    "    business_count = 0\n",
    "    \n",
    "    business_list = []\n",
    "    \n",
    "    for item in businesses:\n",
    "        json_string = json.loads(businesses)\n",
    "        business_list.append(json_string)\n",
    "    \n",
    "    #aa = business_list[\"name\"]\n",
    "        \n",
    "    print(business_list)"
   ]
  },
  {
   "cell_type": "code",
   "execution_count": 66,
   "metadata": {},
   "outputs": [],
   "source": [
    "#json_parsing(businesses)"
   ]
  },
  {
   "cell_type": "markdown",
   "metadata": {},
   "source": [
    "# Datetime  "
   ]
  },
  {
   "cell_type": "markdown",
   "metadata": {},
   "source": [
    "Some Datetime practices from Codewars"
   ]
  },
  {
   "cell_type": "markdown",
   "metadata": {},
   "source": [
    "### Q: Find the amount of minutes till midnight"
   ]
  },
  {
   "cell_type": "code",
   "execution_count": 68,
   "metadata": {},
   "outputs": [],
   "source": [
    "def minutes_to_midnight(d):\n",
    "    '''returning the number of minutes until midnight'''\n",
    "    \n",
    "    midnight = d.replace(day = d.day + 1, hour=0, minute=0, second=0)\n",
    "    time_elapse = midnight - d\n",
    "    mins, secs = divmod(time_elapse.total_seconds(), 60)\n",
    "    \n",
    "    if secs >= 30:\n",
    "        mins = mins + 1\n",
    "    \n",
    "    return \"{} minutes\".format(int(mins))"
   ]
  },
  {
   "cell_type": "code",
   "execution_count": 73,
   "metadata": {},
   "outputs": [
    {
     "data": {
      "text/plain": [
       "'705 minutes'"
      ]
     },
     "execution_count": 73,
     "metadata": {},
     "output_type": "execute_result"
    }
   ],
   "source": [
    "today = datetime.datetime.now()\n",
    "\n",
    "#\"37 minutes\"\n",
    "d = datetime.datetime(today.year, today.month, today.day, 23, 22, 31)\n",
    "minutes_to_midnight(d) \n",
    "# \"705 minutes\"\n",
    "d = datetime.datetime(today.year, today.month, today.day, 12, 15, 29)\n",
    "minutes_to_midnight(d)"
   ]
  },
  {
   "cell_type": "markdown",
   "metadata": {},
   "source": [
    "## Q: How many days till the event?"
   ]
  },
  {
   "cell_type": "code",
   "execution_count": 181,
   "metadata": {},
   "outputs": [],
   "source": [
    "def count_days(d):\n",
    "  \n",
    "    now = datetime.datetime.now()\n",
    "    now = now.replace(hour=0, minute=0, second=0)\n",
    "    time_elapse = d - now\n",
    "    \n",
    "    diff_days = time_elapse.total_seconds()/60/60/24  \n",
    "    \n",
    "    if time_elapse.days < 0:\n",
    "        return 'The day is in the past!'\n",
    "        \n",
    "    elif time_elapse.days == 0:\n",
    "        return \"Today is the day!\"\n",
    "        \n",
    "    else:\n",
    "         return \"{} days\".format(round(diff_days))"
   ]
  },
  {
   "cell_type": "code",
   "execution_count": 184,
   "metadata": {},
   "outputs": [],
   "source": [
    "a = datetime.datetime(2018,1,12, 9, 42)\n",
    "b = datetime.datetime(2018,12,16, 8, 0)\n",
    "c = datetime.datetime(2019,1,12, 15, 6)"
   ]
  },
  {
   "cell_type": "code",
   "execution_count": 185,
   "metadata": {},
   "outputs": [
    {
     "data": {
      "text/plain": [
       "('The day is in the past!', 'Today is the day!', '28 days')"
      ]
     },
     "execution_count": 185,
     "metadata": {},
     "output_type": "execute_result"
    }
   ],
   "source": [
    "count_days(a), count_days(b), count_days(c)"
   ]
  },
  {
   "cell_type": "code",
   "execution_count": null,
   "metadata": {},
   "outputs": [],
   "source": []
  },
  {
   "cell_type": "markdown",
   "metadata": {},
   "source": [
    "## Regular expressions"
   ]
  },
  {
   "cell_type": "markdown",
   "metadata": {},
   "source": []
  },
  {
   "cell_type": "code",
   "execution_count": 5,
   "metadata": {},
   "outputs": [],
   "source": [
    "#^\tStarts with\t\"^hello\"\n",
    "#$\tEnds with\t\"world$\"\t\n",
    "#*\tZero or more occurrences\t\"aix*\"\t\n",
    "#+\tOne or more occurrences\t\"aix+\""
   ]
  },
  {
   "cell_type": "code",
   "execution_count": 6,
   "metadata": {},
   "outputs": [
    {
     "name": "stdout",
     "output_type": "stream",
     "text": [
      "YES! We have a match!\n"
     ]
    }
   ],
   "source": [
    "#Check if the string starts with \"The\" and ends with \"Spain\":\n",
    "\n",
    "txt = \"The rain in Spain\"\n",
    "x = re.search(\"^The.*Spain$\", txt)\n",
    "\n",
    "if (x):\n",
    "  print(\"YES! We have a match!\")\n",
    "else:\n",
    "  print(\"No match\")\n"
   ]
  },
  {
   "cell_type": "code",
   "execution_count": null,
   "metadata": {},
   "outputs": [],
   "source": []
  },
  {
   "cell_type": "code",
   "execution_count": null,
   "metadata": {},
   "outputs": [],
   "source": []
  },
  {
   "cell_type": "code",
   "execution_count": null,
   "metadata": {},
   "outputs": [],
   "source": []
  },
  {
   "cell_type": "markdown",
   "metadata": {},
   "source": [
    "# String manipulation with pandas"
   ]
  },
  {
   "cell_type": "markdown",
   "metadata": {},
   "source": [
    "## Check whether a string is panlindrome or not.\n",
    "A palindrome is a string which is same read forward or backwards.\n"
   ]
  },
  {
   "cell_type": "code",
   "execution_count": 6,
   "metadata": {},
   "outputs": [],
   "source": [
    "def panlindrome(sample_string):\n",
    "    \n",
    "    middle = int(len(sample_string)/2)\n",
    "    \n",
    "    if sample_string[:middle] == sample_string[:middle:-1]:\n",
    "    \n",
    "        print(\"yes\")\n",
    "        \n",
    "    else:\n",
    "        print(\"no\")"
   ]
  },
  {
   "cell_type": "code",
   "execution_count": 11,
   "metadata": {},
   "outputs": [
    {
     "name": "stdout",
     "output_type": "stream",
     "text": [
      "no\n",
      "yes\n"
     ]
    }
   ],
   "source": [
    "sample1 = \"hello\"\n",
    "sample2 = \"abcdefedcba\"\n",
    "panlindrome(sample1)\n",
    "panlindrome(sample2)"
   ]
  },
  {
   "cell_type": "markdown",
   "metadata": {},
   "source": [
    "Anagram"
   ]
  },
  {
   "cell_type": "code",
   "execution_count": 25,
   "metadata": {},
   "outputs": [],
   "source": [
    "def is_anagram(string1, string2):\n",
    "    \n",
    "    \n",
    "    list_string1 = list(string1)\n",
    "    list_string1 = sorted(list_string1)\n",
    "    \n",
    "    list_string2 = list(string2)\n",
    "    list_string2 = sorted(list_string2)\n",
    "\n",
    "    \n",
    "    if list_string1 == list_string2:\n",
    "        print(\"yes, is anagram\")\n",
    "        \n",
    "    else:\n",
    "        print(\"no\")\n",
    "    \n",
    "    "
   ]
  },
  {
   "cell_type": "code",
   "execution_count": 26,
   "metadata": {},
   "outputs": [
    {
     "name": "stdout",
     "output_type": "stream",
     "text": [
      "yes, is anagram\n"
     ]
    }
   ],
   "source": [
    "is_anagram(\"stressed\", \"desserts\")"
   ]
  },
  {
   "cell_type": "code",
   "execution_count": 31,
   "metadata": {},
   "outputs": [],
   "source": [
    "dollars = pd.Series(['12', '-$10', '$10,000'])"
   ]
  },
  {
   "cell_type": "code",
   "execution_count": 32,
   "metadata": {},
   "outputs": [
    {
     "data": {
      "text/plain": [
       "0         12\n",
       "1        -10\n",
       "2    $10,000\n",
       "dtype: object"
      ]
     },
     "execution_count": 32,
     "metadata": {},
     "output_type": "execute_result"
    }
   ],
   "source": [
    "# changing \"-$\" to \"$\"\n",
    "# \\ backslash is an escaping character\n",
    "dollars.str.replace(r'-\\$', '-')"
   ]
  },
  {
   "cell_type": "code",
   "execution_count": 38,
   "metadata": {},
   "outputs": [
    {
     "data": {
      "text/plain": [
       "<pandas.core.strings.StringMethods at 0x10e298780>"
      ]
     },
     "execution_count": 38,
     "metadata": {},
     "output_type": "execute_result"
    }
   ],
   "source": [
    "dollars.str"
   ]
  },
  {
   "cell_type": "markdown",
   "metadata": {},
   "source": [
    "***"
   ]
  },
  {
   "cell_type": "markdown",
   "metadata": {},
   "source": [
    "# Codewar challenges"
   ]
  },
  {
   "cell_type": "markdown",
   "metadata": {},
   "source": [
    "## Which are in "
   ]
  },
  {
   "cell_type": "code",
   "execution_count": 134,
   "metadata": {},
   "outputs": [],
   "source": [
    "def in_array(array1, array2):\n",
    "    \n",
    "    final = set()\n",
    "    \n",
    "    for sub_string in array1:\n",
    "        for string in array2:\n",
    "            if sub_string in string:\n",
    "                final.add(sub_string)\n",
    "    \n",
    "    final = sorted(final)\n",
    "    \n",
    "    return final"
   ]
  },
  {
   "cell_type": "code",
   "execution_count": 135,
   "metadata": {},
   "outputs": [],
   "source": [
    "# add sub to list if its in any of the string in a2\n",
    "def in_array2(a1, a2):\n",
    "    return sorted({sub for sub in a1 if any(sub in s for s in a2)})"
   ]
  },
  {
   "cell_type": "code",
   "execution_count": 136,
   "metadata": {},
   "outputs": [],
   "source": [
    "a1 = [\"live\", \"arp\", \"strong\"] \n",
    "a2 = [\"lively\", \"alive\", \"harp\", \"sharp\", \"armstrong\"]\n",
    "#r = ['arp', 'live', 'strong']\n",
    "#a1 = [\"tarp\", \"mice\", \"bull\"]\n",
    "#a2 = [\"lively\", \"alive\", \"harp\", \"sharp\", \"armstrong\"]"
   ]
  },
  {
   "cell_type": "code",
   "execution_count": 137,
   "metadata": {},
   "outputs": [
    {
     "data": {
      "text/plain": [
       "(['arp', 'live', 'strong'], ['arp', 'live', 'strong'])"
      ]
     },
     "execution_count": 137,
     "metadata": {},
     "output_type": "execute_result"
    }
   ],
   "source": [
    "in_array(a1, a2), r"
   ]
  },
  {
   "cell_type": "markdown",
   "metadata": {},
   "source": [
    "## Make the dead fish swim"
   ]
  },
  {
   "cell_type": "code",
   "execution_count": 138,
   "metadata": {},
   "outputs": [],
   "source": [
    "def parse(data):\n",
    "\n",
    "    final = []\n",
    "    number = 0\n",
    "    \n",
    "    command = list(data)\n",
    "    \n",
    "    for item in command:\n",
    "        if item == 'i':\n",
    "            number += 1\n",
    "        elif item == 's':\n",
    "            number = number ** 2\n",
    "        elif item == 'd':\n",
    "            number -= 1\n",
    "        elif item == 'o':\n",
    "            final.append(number)        \n",
    "        else:\n",
    "            pass\n",
    "    return final"
   ]
  },
  {
   "cell_type": "code",
   "execution_count": 139,
   "metadata": {},
   "outputs": [
    {
     "data": {
      "text/plain": [
       "([1, 4, 25], [1, 4, 25])"
      ]
     },
     "execution_count": 139,
     "metadata": {},
     "output_type": "execute_result"
    }
   ],
   "source": [
    "parse(\"isoisoiso\"), [1,4,25]"
   ]
  },
  {
   "cell_type": "markdown",
   "metadata": {},
   "source": [
    "## Count the smiley faces"
   ]
  },
  {
   "cell_type": "code",
   "execution_count": 140,
   "metadata": {},
   "outputs": [],
   "source": [
    "def count_smileys(arr):\n",
    "\n",
    "    smile = 0\n",
    "    \n",
    "    for item in arr:\n",
    "    \n",
    "        item_list = list(item)\n",
    "        count = 0\n",
    "        \n",
    "        if item_list[0] in [\":\", \";\"]:\n",
    "                count += 1\n",
    "    \n",
    "        if item_list[-1] in [\")\", \"D\"]:\n",
    "                count += 1\n",
    "            \n",
    "        if len(item_list) > 2 and (count == 2):\n",
    "        \n",
    "            if item_list[1] in [\"-\",\"~\"]:\n",
    "                smile += 1\n",
    "        elif len(item_list) == 2 and (count == 2):\n",
    "            smile += 1\n",
    "        else:\n",
    "            pass\n",
    "            \n",
    "        \n",
    "    return smile"
   ]
  },
  {
   "cell_type": "code",
   "execution_count": 141,
   "metadata": {},
   "outputs": [
    {
     "data": {
      "text/plain": [
       "8"
      ]
     },
     "execution_count": 141,
     "metadata": {},
     "output_type": "execute_result"
    }
   ],
   "source": [
    "count_smileys([';D', ':-(', ';o(', ';-D', ':(', ':oD', ':D', ':D', ';(', ';D', ':D', ':D', ':o(', ':D'])"
   ]
  },
  {
   "cell_type": "code",
   "execution_count": null,
   "metadata": {},
   "outputs": [],
   "source": []
  },
  {
   "cell_type": "code",
   "execution_count": null,
   "metadata": {},
   "outputs": [],
   "source": []
  },
  {
   "cell_type": "code",
   "execution_count": null,
   "metadata": {},
   "outputs": [],
   "source": []
  },
  {
   "cell_type": "code",
   "execution_count": null,
   "metadata": {},
   "outputs": [],
   "source": []
  },
  {
   "cell_type": "code",
   "execution_count": null,
   "metadata": {},
   "outputs": [],
   "source": []
  }
 ],
 "metadata": {
  "kernelspec": {
   "display_name": "Python 3",
   "language": "python",
   "name": "python3"
  },
  "language_info": {
   "codemirror_mode": {
    "name": "ipython",
    "version": 3
   },
   "file_extension": ".py",
   "mimetype": "text/x-python",
   "name": "python",
   "nbconvert_exporter": "python",
   "pygments_lexer": "ipython3",
   "version": "3.6.4"
  }
 },
 "nbformat": 4,
 "nbformat_minor": 2
}
