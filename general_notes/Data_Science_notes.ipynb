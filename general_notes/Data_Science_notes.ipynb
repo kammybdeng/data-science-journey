{
 "cells": [
  {
   "cell_type": "markdown",
   "metadata": {},
   "source": [
    "# Data Science Notes"
   ]
  },
  {
   "cell_type": "markdown",
   "metadata": {},
   "source": [
    "A notebook of some notes and insights on Data Science. The main intention is building this for myself to study for interviews. \n",
    "\n",
    "In progress."
   ]
  },
  {
   "cell_type": "markdown",
   "metadata": {},
   "source": [
    "***"
   ]
  },
  {
   "cell_type": "markdown",
   "metadata": {},
   "source": [
    "Content:\n",
    "\n",
    "1. [Overview](#Overview)\n",
    "2. [Regularization](#Regularization)\n",
    "3. [Statistics and A/B testing](#Statistics-and-A/B-testing)\n",
    "4. [Database](#Database)\n",
    "5. [Interview questions and answers from books](#Interview-questions)"
   ]
  },
  {
   "cell_type": "markdown",
   "metadata": {},
   "source": [
    "***"
   ]
  },
  {
   "cell_type": "markdown",
   "metadata": {},
   "source": [
    "# Overview"
   ]
  },
  {
   "cell_type": "markdown",
   "metadata": {},
   "source": [
    "## Steps of implementation\n",
    "\n",
    "\n",
    "1.  **Data Collection** : Knowing what kind of data to pull from the data warehouse that would solve the problem\n",
    "\n",
    "2. **EDA (Exploratory Data Analysis)** : Explore the date to gain general idea of the data\n",
    "\n",
    "3. **Data Cleaning/Transform** : Clean and filter data to obtain information that are needed\n",
    "\n",
    "4. **Feature Engineering**: Transforming data into meaningful information that can be put into a model\n",
    "\n",
    "5. **Model Selection**: Select a relevant model for the problem (this phase often involves industrial or domain knowledge of the business)\n",
    "\n",
    "6. Model Training**: Train the model to have the best performances\n",
    "\n",
    "7. **A/B Testing**: Common methods to validate the model in practice would be performing A/B testing\n",
    "\n",
    "8. **Evaluation**: Since the data collected from the A/B tests and(or) the original data only represents a subset of the population, we can use statistics to make inferences to reject of fail to reject our hypothesis\n",
    "\n",
    "9. **Actionable deliverables**: After the technical and real life practical results and conclusions, we can now put the actionable deliverables into action.\n"
   ]
  },
  {
   "cell_type": "markdown",
   "metadata": {},
   "source": [
    "***"
   ]
  },
  {
   "cell_type": "markdown",
   "metadata": {},
   "source": [
    "## Supervised vs Unsupervised"
   ]
  },
  {
   "cell_type": "markdown",
   "metadata": {},
   "source": [
    "- Supervised: there's target\n",
    " \n",
    " (ex. logistic, regression, random forest)\n",
    "\n",
    "\n",
    "- Unsupervised: there's no target\n",
    " \n",
    " (ex. knn clustering)"
   ]
  },
  {
   "cell_type": "markdown",
   "metadata": {},
   "source": [
    "## Parametric vs Nonparametric"
   ]
  },
  {
   "cell_type": "markdown",
   "metadata": {},
   "source": [
    "- parametric: assumptions of model\n",
    "- nonparametric: weak assumptions, often hard to intrepret"
   ]
  },
  {
   "cell_type": "markdown",
   "metadata": {},
   "source": [
    "------"
   ]
  },
  {
   "cell_type": "markdown",
   "metadata": {},
   "source": [
    "# Regularization"
   ]
  },
  {
   "cell_type": "markdown",
   "metadata": {},
   "source": [
    "## Ridge vs Lasso"
   ]
  },
  {
   "cell_type": "markdown",
   "metadata": {},
   "source": [
    "### Lasso"
   ]
  },
  {
   "cell_type": "markdown",
   "metadata": {},
   "source": [
    "![lasso equation](https://cdn-images-1.medium.com/max/800/1*P5Lq5mAi4WAch7oIeiS3WA.png)"
   ]
  },
  {
   "cell_type": "markdown",
   "metadata": {},
   "source": [
    "\n",
    "Regression vs Classifciation\n",
    "\n",
    "Paramenters vs Hyperparameters\n",
    "parameters - some assumptions\n",
    "parameters - something you can change\n",
    "\n",
    "\n",
    "Interpretability vs performance\n",
    "churn rate - to find the important factors\n",
    "fraud/medical cases - only wants to improve performance\n",
    "\n",
    "\n",
    "Online updating\n",
    "which model can incorporate new data points on-the-fly (updating each time when new data point comes in)\n",
    "stochastic gradient descent - minimize the error of each data point\n",
    "\n",
    "\n",
    "\n",
    "gradient descent - minimize the overall error of model"
   ]
  },
  {
   "cell_type": "markdown",
   "metadata": {},
   "source": [
    "--------"
   ]
  },
  {
   "cell_type": "markdown",
   "metadata": {},
   "source": [
    "# Statistics and A/B testing"
   ]
  },
  {
   "cell_type": "markdown",
   "metadata": {},
   "source": [
    "How are the stats, probability, and A/B testing connected"
   ]
  },
  {
   "cell_type": "markdown",
   "metadata": {},
   "source": [
    "- 1) Data Collection  \n",
    "- 2) Model fitting (usuallly simple distribution, for complex distributions, ML(and/or non-parameteric models) is used)\n",
    "- 3) A/B test to validate result\n",
    "- 4) from the collected data group, make simulations(the data represents 1 trial, simulations can perform a great number of trial, hence from there we can make conclusions) to conclude result"
   ]
  },
  {
   "cell_type": "markdown",
   "metadata": {},
   "source": [
    "#### Stats - power"
   ]
  },
  {
   "cell_type": "markdown",
   "metadata": {},
   "source": [
    "Power increases when two distribution's mean is further apart. When we have more sample points, distributions will be more narrow (b/c less variance), hence; power is larger"
   ]
  },
  {
   "cell_type": "markdown",
   "metadata": {},
   "source": [
    "#### Bayesian vs Frequentist"
   ]
  },
  {
   "cell_type": "markdown",
   "metadata": {},
   "source": [
    "Bayesian - takes in acouunt of previous observations (ex. multi-armed bandit)"
   ]
  },
  {
   "cell_type": "markdown",
   "metadata": {},
   "source": [
    "***"
   ]
  },
  {
   "cell_type": "markdown",
   "metadata": {},
   "source": [
    "# Database"
   ]
  },
  {
   "cell_type": "markdown",
   "metadata": {},
   "source": [
    "## Relational vs Non relational database"
   ]
  },
  {
   "cell_type": "markdown",
   "metadata": {},
   "source": [
    "![relational-vs-nonrelational from upwork](https://content-static.upwork.com/blog/uploads/sites/3/2015/06/02170023/relational-vs-nonrelational-databases.png)"
   ]
  },
  {
   "cell_type": "markdown",
   "metadata": {},
   "source": [
    "### Relational (MySQL) \n",
    "\n",
    "- SQL = Structured Query Language\n",
    "- represents data in **tables** and **rows**\n",
    "- **querying**: SQL injection attack are possible\n",
    "- **application**: when data structure fits nicely into tables and rows"
   ]
  },
  {
   "cell_type": "markdown",
   "metadata": {},
   "source": [
    "### Relational (NoSQL, MongoDB)\n",
    "\n",
    "- represents data as **collections** of **Json** documents\n",
    "- \n",
    "- **application**:: when data is too complex or you can’t pre-define your schema"
   ]
  },
  {
   "cell_type": "markdown",
   "metadata": {},
   "source": [
    "----"
   ]
  },
  {
   "cell_type": "markdown",
   "metadata": {},
   "source": [
    "# Interview questions \n"
   ]
  },
  {
   "cell_type": "markdown",
   "metadata": {},
   "source": [
    "##  A Collection of Data Science Take-Home Challenges \n",
    "[A Collection of Data Science Take-Home Challenges](#https://datamasked.com/).\n"
   ]
  },
  {
   "cell_type": "markdown",
   "metadata": {},
   "source": [
    "#### How would you improve engagement in FB?"
   ]
  },
  {
   "cell_type": "markdown",
   "metadata": {},
   "source": [
    "Most case studies start with a vague goal, hence need to\n",
    "\n",
    "    1. define concrete **metric** \n",
    "        - something measureable and relates to company's mission)\n",
    "    2. pick relevant **variables** \n",
    "        -(sex, age, country, number of friends and etc) related to their browsing/online behavior(device, channels they come from ads/SEO, session time, etc)\n",
    "    3. pick a model to predict the metric by the variables you selected\n",
    "        - explain the reasoning on your selected model (i.e random forest (tree-based) b/c it works well(high accuracy) in high dimension, with categorical variables and outliers)\n",
    "    4. analysis/conclusion\n",
    "        - pick **one bad** and **one good** segment \n",
    "        \n",
    "        \n",
    "note: Data scientist is to suggest actions based on data (i.e start with data, then make actionable suggestions)"
   ]
  },
  {
   "cell_type": "markdown",
   "metadata": {},
   "source": [
    "### Take-home technique"
   ]
  },
  {
   "cell_type": "markdown",
   "metadata": {},
   "source": [
    "1. check the quality of data\n",
    "2. don't overspend time to optimize model, instead, explain your reasoning on why did you pick that model, and how would you improve/optimize it if you were given more time\n",
    "3. focus on how the business would benefit on your analysis\n",
    "\n"
   ]
  },
  {
   "cell_type": "markdown",
   "metadata": {},
   "source": [
    "***"
   ]
  },
  {
   "cell_type": "markdown",
   "metadata": {},
   "source": [
    "# 120 interview questions"
   ]
  },
  {
   "cell_type": "markdown",
   "metadata": {},
   "source": [
    "## product metrics"
   ]
  },
  {
   "cell_type": "markdown",
   "metadata": {},
   "source": [
    "1. What would be good metrics of success for an advertising-driven consumer product? (Buzzfeed, YouTube, Google Search, etc.) A service-driven consumer product? (Uber, Flickr, Venmo, etc.)"
   ]
  },
  {
   "cell_type": "markdown",
   "metadata": {},
   "source": [
    "- advertising-driven: click-through-rate on ads\n",
    "- service-drive: usage and revenue "
   ]
  },
  {
   "cell_type": "markdown",
   "metadata": {},
   "source": [
    "### 2. What would be good metrics of success for a productivity tool? (Evernote, Asana, Google Docs, etc.) A MOOC? (edX, Coursera, Udacity, etc.)\n"
   ]
  },
  {
   "cell_type": "markdown",
   "metadata": {},
   "source": [
    "- productivity tool:\n",
    "- MOOC (massive open online courses): retention rate, churn rate"
   ]
  },
  {
   "cell_type": "markdown",
   "metadata": {},
   "source": [
    "### 3. What would be good metrics of success for an e-commerce product? (Etsy, Groupon, Birchbox, etc.) A subscrip- tion product? (Net ix, Birchbox, Hulu, etc.) Premium subscriptions? (OKCupid, LinkedIn, Spotify, etc.) \n",
    "\n"
   ]
  },
  {
   "cell_type": "markdown",
   "metadata": {},
   "source": [
    "- e-commerce product: site traffic, sales per seller, revenue per seller, COGS\n",
    "- A subscrip- tion product: retention rate, churn rate\n",
    "- Premium subscriptions: retention rate, churn rate"
   ]
  },
  {
   "cell_type": "markdown",
   "metadata": {},
   "source": [
    "### 6. A certain metric is violating your expectations by going down or up more than you expect. How would you try to identify the cause of the change?\n"
   ]
  },
  {
   "cell_type": "markdown",
   "metadata": {},
   "source": [
    "KPI (key point indicators)"
   ]
  },
  {
   "cell_type": "markdown",
   "metadata": {},
   "source": [
    "### Sources:\n",
    "\n",
    "- https://www.upwork.com/hiring/data/sql-vs-nosql-databases-whats-the-difference/"
   ]
  },
  {
   "cell_type": "code",
   "execution_count": null,
   "metadata": {},
   "outputs": [],
   "source": []
  },
  {
   "cell_type": "code",
   "execution_count": null,
   "metadata": {},
   "outputs": [],
   "source": []
  },
  {
   "cell_type": "code",
   "execution_count": null,
   "metadata": {},
   "outputs": [],
   "source": []
  }
 ],
 "metadata": {
  "kernelspec": {
   "display_name": "Python 3",
   "language": "python",
   "name": "python3"
  },
  "language_info": {
   "codemirror_mode": {
    "name": "ipython",
    "version": 3
   },
   "file_extension": ".py",
   "mimetype": "text/x-python",
   "name": "python",
   "nbconvert_exporter": "python",
   "pygments_lexer": "ipython3",
   "version": "3.6.4"
  }
 },
 "nbformat": 4,
 "nbformat_minor": 2
}
