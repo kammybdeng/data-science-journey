{
 "cells": [
  {
   "cell_type": "markdown",
   "metadata": {},
   "source": [
    "# Data Science Notes"
   ]
  },
  {
   "cell_type": "markdown",
   "metadata": {},
   "source": [
    "**In progress....**"
   ]
  },
  {
   "cell_type": "markdown",
   "metadata": {},
   "source": [
    "***"
   ]
  },
  {
   "cell_type": "markdown",
   "metadata": {},
   "source": [
    "**Content**:\n",
    "\n",
    "1. [Overview](#Overview)\n",
    "2. [Regularization](#Regularization)\n",
    "3. [Statistics and A/B testing](#Statistics-and-A/B-testing)\n"
   ]
  },
  {
   "cell_type": "markdown",
   "metadata": {},
   "source": [
    "***"
   ]
  },
  {
   "cell_type": "markdown",
   "metadata": {},
   "source": [
    "# Overview"
   ]
  },
  {
   "cell_type": "markdown",
   "metadata": {},
   "source": [
    "## Steps of implementation\n",
    "\n",
    "\n",
    "1.  **Data Collection** : Knowing what kind of data to pull from the data warehouse that would solve the problem\n",
    "\n",
    "2. **EDA (Exploratory Data Analysis)** : Explore the date to gain general idea of the data\n",
    "\n",
    "3. **Data Cleaning/Transform** : Clean and filter data to obtain information that are needed\n",
    "\n",
    "4. **Feature Engineering**: Transforming data into meaningful information that can be put into a model\n",
    "\n",
    "5. **Model Selection**: Select a relevant model for the problem (this phase often involves industrial or domain knowledge of the business)\n",
    "\n",
    "6. **Model Training**: Train the model to have the best performances\n",
    "\n",
    "7. **A/B Testing**: Common methods to validate the model in practice would be performing A/B testing\n",
    "\n",
    "8. **Evaluation**: Since the data collected from the A/B tests and(or) the original data only represents a subset of the population, we can use statistics to make inferences to reject of fail to reject our hypothesis\n",
    "\n",
    "9. **Actionable deliverables**: After the technical and real life practical results and conclusions, we can now put the actionable deliverables into action.\n"
   ]
  },
  {
   "cell_type": "markdown",
   "metadata": {},
   "source": [
    "***"
   ]
  },
  {
   "cell_type": "markdown",
   "metadata": {},
   "source": [
    "## Supervised vs Unsupervised"
   ]
  },
  {
   "cell_type": "markdown",
   "metadata": {},
   "source": [
    "- Supervised: there's target\n",
    " \n",
    " (ex. logistic, regression, random forest)\n",
    "\n",
    "\n",
    "- Unsupervised: there's no target\n",
    " \n",
    " (ex. knn clustering)"
   ]
  },
  {
   "cell_type": "markdown",
   "metadata": {},
   "source": [
    "## Parametric vs Nonparametric"
   ]
  },
  {
   "cell_type": "markdown",
   "metadata": {},
   "source": [
    "- parametric: assumptions of model\n",
    "- nonparametric: weak assumptions, often hard to intrepret"
   ]
  },
  {
   "cell_type": "markdown",
   "metadata": {},
   "source": [
    "------"
   ]
  },
  {
   "cell_type": "markdown",
   "metadata": {},
   "source": [
    "# Regularization"
   ]
  },
  {
   "cell_type": "markdown",
   "metadata": {},
   "source": [
    "## Ridge vs Lasso"
   ]
  },
  {
   "cell_type": "markdown",
   "metadata": {},
   "source": [
    "### Lasso"
   ]
  },
  {
   "cell_type": "markdown",
   "metadata": {},
   "source": [
    "![lasso equation](https://cdn-images-1.medium.com/max/800/1*P5Lq5mAi4WAch7oIeiS3WA.png)"
   ]
  },
  {
   "cell_type": "markdown",
   "metadata": {},
   "source": [
    "\n",
    "Regression vs Classifciation\n",
    "\n",
    "Paramenters vs Hyperparameters\n",
    "parameters - some assumptions\n",
    "parameters - something you can change\n",
    "\n",
    "\n",
    "Interpretability vs performance\n",
    "churn rate - to find the important factors\n",
    "fraud/medical cases - only wants to improve performance\n",
    "\n",
    "\n",
    "Online updating\n",
    "which model can incorporate new data points on-the-fly (updating each time when new data point comes in)\n",
    "stochastic gradient descent - minimize the error of each data point\n",
    "\n",
    "\n",
    "\n",
    "gradient descent - minimize the overall error of model"
   ]
  },
  {
   "cell_type": "markdown",
   "metadata": {},
   "source": [
    "--------"
   ]
  },
  {
   "cell_type": "markdown",
   "metadata": {},
   "source": [
    "# Feature Transformation"
   ]
  },
  {
   "cell_type": "markdown",
   "metadata": {},
   "source": [
    "## Log"
   ]
  },
  {
   "cell_type": "markdown",
   "metadata": {},
   "source": [
    "#### When to use log transform?\n",
    "\n",
    " - When we want to reduce skewness of the data.\n"
   ]
  },
  {
   "cell_type": "markdown",
   "metadata": {},
   "source": [
    "***"
   ]
  },
  {
   "cell_type": "markdown",
   "metadata": {},
   "source": [
    "# Statistics and A/B testing"
   ]
  },
  {
   "cell_type": "markdown",
   "metadata": {},
   "source": [
    "How are the stats, probability, and A/B testing connected"
   ]
  },
  {
   "cell_type": "markdown",
   "metadata": {},
   "source": [
    "- 1) Data Collection  \n",
    "- 2) Model fitting (usuallly simple distribution, for complex distributions, ML(and/or non-parameteric models) is used)\n",
    "- 3) A/B test to validate result\n",
    "- 4) from the collected data group, make simulations(the data represents 1 trial, simulations can perform a great number of trial, hence from there we can make conclusions) to conclude result"
   ]
  },
  {
   "cell_type": "markdown",
   "metadata": {},
   "source": [
    "#### Stats - power"
   ]
  },
  {
   "cell_type": "markdown",
   "metadata": {},
   "source": [
    "Power increases when two distribution's mean is further apart. When we have more sample points, distributions will be more narrow (b/c less variance), hence; power is larger"
   ]
  },
  {
   "cell_type": "markdown",
   "metadata": {},
   "source": [
    "#### Bayesian vs Frequentist"
   ]
  },
  {
   "cell_type": "markdown",
   "metadata": {},
   "source": [
    "Bayesian - takes in acouunt of previous observations (ex. multi-armed bandit)"
   ]
  },
  {
   "cell_type": "markdown",
   "metadata": {},
   "source": [
    "***"
   ]
  }
 ],
 "metadata": {
  "kernelspec": {
   "display_name": "kammyenv",
   "language": "python",
   "name": "kammyenv"
  },
  "language_info": {
   "codemirror_mode": {
    "name": "ipython",
    "version": 3
   },
   "file_extension": ".py",
   "mimetype": "text/x-python",
   "name": "python",
   "nbconvert_exporter": "python",
   "pygments_lexer": "ipython3",
   "version": "3.6.5"
  }
 },
 "nbformat": 4,
 "nbformat_minor": 2
}
