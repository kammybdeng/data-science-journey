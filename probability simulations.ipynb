{
 "cells": [
  {
   "cell_type": "markdown",
   "metadata": {},
   "source": [
    "# General Data Science notes - Probability"
   ]
  },
  {
   "cell_type": "code",
   "execution_count": 65,
   "metadata": {},
   "outputs": [],
   "source": [
    "import numpy as np\n",
    "import seaborn as sns\n",
    "import matplotlib.pyplot as plt\n"
   ]
  },
  {
   "cell_type": "markdown",
   "metadata": {},
   "source": [
    "# Normal distribution"
   ]
  },
  {
   "cell_type": "code",
   "execution_count": 60,
   "metadata": {},
   "outputs": [],
   "source": [
    "#mean\n",
    "mu = 0\n",
    "# standard deviation\n",
    "sigma = 0.1\n",
    "n_trial = 50\n"
   ]
  },
  {
   "cell_type": "code",
   "execution_count": 61,
   "metadata": {},
   "outputs": [],
   "source": [
    "normal_result = np.random.normal(mu, sigma, n_trial)"
   ]
  },
  {
   "cell_type": "code",
   "execution_count": 62,
   "metadata": {},
   "outputs": [
    {
     "data": {
      "text/plain": [
       "array([-0.03900537,  0.05407822, -0.08759486, -0.10235131, -0.11763952,\n",
       "       -0.14402643, -0.01138029, -0.03366081, -0.01652482,  0.02982954,\n",
       "        0.03414225,  0.01096505, -0.10720683, -0.122472  , -0.04670445,\n",
       "       -0.07376163,  0.00489866,  0.14090515,  0.07962002,  0.02203243,\n",
       "       -0.14865844, -0.07317696,  0.16649742, -0.13005957,  0.02636142,\n",
       "       -0.12750471, -0.018099  ,  0.06201685,  0.02701658,  0.02748175,\n",
       "        0.05205874,  0.05648665, -0.0493741 ,  0.03562036,  0.03603301,\n",
       "        0.03354999,  0.11137016, -0.05180487, -0.15660197, -0.0616914 ,\n",
       "        0.12307064, -0.03237304, -0.01617849, -0.21408019,  0.14794665,\n",
       "       -0.10119327, -0.00931295,  0.05245292,  0.14332862,  0.18273619])"
      ]
     },
     "execution_count": 62,
     "metadata": {},
     "output_type": "execute_result"
    }
   ],
   "source": [
    "normal_result"
   ]
  },
  {
   "cell_type": "code",
   "execution_count": 63,
   "metadata": {},
   "outputs": [
    {
     "data": {
      "image/png": "[encoded data removed]",
      "text/plain": [
       "<matplotlib.figure.Figure at 0x1a29b26eb8>"
      ]
     },
     "metadata": {},
     "output_type": "display_data"
    }
   ],
   "source": [
    "sns.distplot(normal_result);"
   ]
  },
  {
   "cell_type": "code",
   "execution_count": 64,
   "metadata": {},
   "outputs": [
    {
     "data": {
      "image/png": "[encoded data removed]",
      "text/plain": [
       "<matplotlib.figure.Figure at 0x1a29b4f630>"
      ]
     },
     "metadata": {},
     "output_type": "display_data"
    }
   ],
   "source": [
    "sns.distplot(normal_result, kde=False, rug=True);"
   ]
  },
  {
   "cell_type": "code",
   "execution_count": null,
   "metadata": {},
   "outputs": [],
   "source": []
  },
  {
   "cell_type": "code",
   "execution_count": null,
   "metadata": {},
   "outputs": [],
   "source": []
  },
  {
   "cell_type": "markdown",
   "metadata": {},
   "source": [
    "# Binomial distribution"
   ]
  },
  {
   "cell_type": "markdown",
   "metadata": {},
   "source": [
    "**A company drills 9 wild-cat oil exploration wells, each with an estimated probability of success of 0.1, all nine wells fail, what's the probability of that happening?**\n",
    "\n",
    "**Let's do 200 trials of the model and count the number that generate zero positive results.**"
   ]
  },
  {
   "cell_type": "code",
   "execution_count": 17,
   "metadata": {},
   "outputs": [],
   "source": [
    "wells = 9\n",
    "rate = 0.1\n",
    "trial = 200\n",
    "\n",
    "\n",
    "# 9 wells, each well with the success rate of 0.1, doing 200 trials"
   ]
  },
  {
   "cell_type": "code",
   "execution_count": 18,
   "metadata": {},
   "outputs": [],
   "source": [
    "result = np.random.binomial(wells, rate, trial)"
   ]
  },
  {
   "cell_type": "code",
   "execution_count": 19,
   "metadata": {},
   "outputs": [
    {
     "data": {
      "text/plain": [
       "array([1, 0, 0, 0, 1, 0, 1, 0, 0, 1, 1, 2, 0, 3, 2, 2, 0, 0, 0, 1, 0, 0,\n",
       "       1, 2, 3, 1, 1, 3, 1, 0, 2, 2, 2, 1, 0, 0, 3, 1, 1, 2, 0, 0, 0, 2,\n",
       "       0, 2, 1, 1, 0, 1, 2, 2, 0, 2, 0, 0, 2, 0, 2, 1, 2, 1, 1, 1, 0, 2,\n",
       "       1, 0, 0, 0, 1, 0, 1, 1, 0, 2, 0, 3, 0, 1, 0, 1, 2, 1, 1, 0, 1, 1,\n",
       "       0, 1, 1, 1, 0, 0, 2, 0, 2, 1, 0, 0, 0, 0, 2, 1, 0, 0, 2, 0, 0, 1,\n",
       "       0, 0, 1, 0, 0, 1, 1, 1, 3, 2, 2, 1, 0, 0, 4, 1, 0, 1, 0, 1, 1, 1,\n",
       "       0, 2, 0, 2, 2, 1, 3, 0, 1, 1, 1, 0, 1, 1, 0, 0, 1, 0, 0, 1, 0, 0,\n",
       "       0, 0, 0, 1, 1, 1, 2, 1, 0, 0, 1, 1, 1, 0, 0, 1, 0, 1, 2, 0, 0, 2,\n",
       "       1, 1, 1, 0, 1, 1, 2, 0, 2, 1, 1, 2, 0, 0, 1, 1, 0, 1, 3, 2, 2, 0,\n",
       "       1, 2])"
      ]
     },
     "execution_count": 19,
     "metadata": {},
     "output_type": "execute_result"
    }
   ],
   "source": [
    "result"
   ]
  },
  {
   "cell_type": "markdown",
   "metadata": {},
   "source": [
    "**What does the above result means?**\n",
    "\n",
    "Each number represents the number of wells being **successful**. \n"
   ]
  },
  {
   "cell_type": "code",
   "execution_count": 26,
   "metadata": {},
   "outputs": [
    {
     "name": "stdout",
     "output_type": "stream",
     "text": [
      "Since we are repeating this for 200 times, so we see 200 results.\n",
      "Since we have a successful rate of 0.1, success is unlikely, hence we see a lot of 0 wells being successful.\n"
     ]
    }
   ],
   "source": [
    "print('Since we are repeating this for {0} times, so we see {1} results.'.format(trial, len(result)))\n",
    "print('Since we have a successful rate of {}, success is unlikely, hence we see a lot of 0 wells being successful.'.format(rate))"
   ]
  },
  {
   "cell_type": "code",
   "execution_count": 13,
   "metadata": {},
   "outputs": [
    {
     "data": {
      "image/png": "[encoded data removed]",
      "text/plain": [
       "<matplotlib.figure.Figure at 0x1a2892dcc0>"
      ]
     },
     "metadata": {},
     "output_type": "display_data"
    }
   ],
   "source": [
    "sns.distplot(result);"
   ]
  },
  {
   "cell_type": "markdown",
   "metadata": {},
   "source": [
    "**How do we interpret this graph?**\n",
    "\n",
    "Since the rate is so low, we can see most result falls in 0 and 1. The x-axis represents number of wells and the y-axis represents the probability? of seeing wells success. ??\n",
    "\n"
   ]
  },
  {
   "cell_type": "code",
   "execution_count": 10,
   "metadata": {},
   "outputs": [
    {
     "data": {
      "image/png": "[encoded data removed]",
      "text/plain": [
       "<matplotlib.figure.Figure at 0x1138bf2e8>"
      ]
     },
     "metadata": {},
     "output_type": "display_data"
    }
   ],
   "source": [
    "sns.distplot(result, kde=False, rug=True);"
   ]
  },
  {
   "cell_type": "markdown",
   "metadata": {},
   "source": [
    "Out of the 200 trials, we see almost 80 trials with result of 0 and another 80 with result of 1."
   ]
  },
  {
   "cell_type": "code",
   "execution_count": 29,
   "metadata": {},
   "outputs": [],
   "source": [
    "prob = sum(result==0)/200"
   ]
  },
  {
   "cell_type": "code",
   "execution_count": 36,
   "metadata": {},
   "outputs": [
    {
     "name": "stdout",
     "output_type": "stream",
     "text": [
      "this means the average of seeing all 9 wells fails is 40%.\n"
     ]
    }
   ],
   "source": [
    "print('this means the average of seeing all 9 wells fails is {}%.'.format(int(prob * 100)))"
   ]
  },
  {
   "cell_type": "markdown",
   "metadata": {},
   "source": [
    "# Poisson Distribution"
   ]
  },
  {
   "cell_type": "code",
   "execution_count": 47,
   "metadata": {},
   "outputs": [],
   "source": [
    "# Prepare data\n",
    "N = 50 # step\n",
    "lambdas = [.15]\n",
    "#lambdas = [1, 3, 5]\n",
    "X_T = [np.random.poisson(lam, size=N) for lam in lambdas]\n",
    "S = [[np.sum(X[0:i]) for i in range(N)] for X in X_T]\n",
    "X = np.linspace(0, N, N)"
   ]
  },
  {
   "cell_type": "code",
   "execution_count": 48,
   "metadata": {},
   "outputs": [
    {
     "data": {
      "image/png": "[encoded data removed]",
      "text/plain": [
       "<matplotlib.figure.Figure at 0x1a2939c6d8>"
      ]
     },
     "metadata": {},
     "output_type": "display_data"
    }
   ],
   "source": [
    "# Plot the graph\n",
    "graphs = [plt.step(X, S[i], label=\"Lambda = %d\"%lambdas[i])[0] for i in range(len(lambdas))]\n",
    "plt.legend(handles=graphs, loc=2)\n",
    "plt.title(\"Poisson Process\", fontdict={'fontname': 'Times New Roman', 'fontsize': 21}, y=1.03)\n",
    "plt.ylim(0)\n",
    "plt.xlim(0)\n",
    "plt.show()"
   ]
  },
  {
   "cell_type": "code",
   "execution_count": null,
   "metadata": {},
   "outputs": [],
   "source": []
  }
 ],
 "metadata": {
  "kernelspec": {
   "display_name": "Python 3",
   "language": "python",
   "name": "python3"
  },
  "language_info": {
   "codemirror_mode": {
    "name": "ipython",
    "version": 3
   },
   "file_extension": ".py",
   "mimetype": "text/x-python",
   "name": "python",
   "nbconvert_exporter": "python",
   "pygments_lexer": "ipython3",
   "version": "3.6.4"
  }
 },
 "nbformat": 4,
 "nbformat_minor": 2
}
