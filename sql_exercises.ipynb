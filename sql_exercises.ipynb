{
 "cells": [
  {
   "cell_type": "markdown",
   "metadata": {},
   "source": [
    "# SQL exercises"
   ]
  },
  {
   "cell_type": "markdown",
   "metadata": {},
   "source": [
    "PostgresSQL excercises from https://pgexercises.com/questions/basic/"
   ]
  },
  {
   "cell_type": "markdown",
   "metadata": {},
   "source": [
    "![sql-exercise-schema](img/sql-exercise-schema.png)"
   ]
  },
  {
   "cell_type": "markdown",
   "metadata": {},
   "source": [
    "- [Basic](#Basic)\n",
    "- [Join](#Join)"
   ]
  },
  {
   "cell_type": "markdown",
   "metadata": {},
   "source": [
    "## Basic"
   ]
  },
  {
   "cell_type": "markdown",
   "metadata": {},
   "source": [
    "How can you produce a list of facilities, with each labelled as 'cheap' or 'expensive' depending on if their monthly maintenance cost is more than $100? Return the name and monthly maintenance of the facilities in question.\n",
    "\n",
    "     \n",
    "     SELECT name,\n",
    "        CASE WHEN monthlymaintenance > 100 THEN \n",
    "            'expensive'\n",
    "        ELSE \n",
    "            'cheap'\n",
    "        END AS \n",
    "            cost\n",
    "\n",
    "        FROM cd.facilities"
   ]
  },
  {
   "cell_type": "markdown",
   "metadata": {},
   "source": [
    "How can you produce a list of members who joined after the start of September 2012? Return the memid, surname, firstname, and joindate of the members in question.\n",
    "\n",
    "\n",
    "    SELECT memid, surname, firstname, joindate\n",
    "        FROM cd.members\n",
    "        WHERE joindate >= '2012-09-01'"
   ]
  },
  {
   "cell_type": "markdown",
   "metadata": {},
   "source": [
    "## Join"
   ]
  },
  {
   "cell_type": "markdown",
   "metadata": {},
   "source": [
    "### You'd like to get the first and last name of the last member(s) who signed up - not just the date. How can you do that?\n",
    "\n",
    "\n",
    "    SELECT firstname, surname, joindate\n",
    "        FROM cd.members\n",
    "        WHERE joindate = (SELECT MAX(joindate) FROM cd.members)\n",
    "\n",
    "\n",
    "Notes: Why this would not work\n",
    "\n",
    "    SELECT firstname, surname, MAX(joindate)\n",
    "        FROM cd.members\n",
    "\n",
    "MAX(joindate) - returns a single value when firstname and surname would return a list of all the name values, hence it was confused when asked to concate these three items together\n",
    "\n",
    "\n",
    "In the correct query, we have created one single row from the subquery and compare this row to all the rows in the joindate column.\n",
    "\n",
    "\n",
    "Other approach:\n",
    "\n",
    "\n",
    "     SELECT firstname, surname, joindate\n",
    "       FROM cd.members\n",
    "       ORDER BY joindate DESC\n",
    "       LIMIT 1\n"
   ]
  },
  {
   "cell_type": "markdown",
   "metadata": {},
   "source": []
  },
  {
   "cell_type": "code",
   "execution_count": null,
   "metadata": {},
   "outputs": [],
   "source": []
  },
  {
   "cell_type": "code",
   "execution_count": null,
   "metadata": {},
   "outputs": [],
   "source": []
  },
  {
   "cell_type": "code",
   "execution_count": null,
   "metadata": {},
   "outputs": [],
   "source": []
  },
  {
   "cell_type": "markdown",
   "metadata": {},
   "source": [
    "#### Get the day of the month from a timestamp\n",
    "Get the day of the month from the timestamp '2012-08-31' as an integer.\n"
   ]
  },
  {
   "cell_type": "markdown",
   "metadata": {},
   "source": [
    "SELECT EXTRACT (DAY FROM starttime)\n",
    "\n",
    "FROM cd.bookings \n",
    "\n",
    "WHERE starttime::date = '2012-08-31'\n",
    "\n",
    "LIMIT 1"
   ]
  },
  {
   "cell_type": "code",
   "execution_count": null,
   "metadata": {},
   "outputs": [],
   "source": []
  },
  {
   "cell_type": "markdown",
   "metadata": {},
   "source": [
    "#### Work out the start times of bookings for tennis courts\n",
    "How can you produce a list of the start times for bookings for tennis courts, for the date '2012-09-21'? Return a list of start time and facility name pairings, ordered by the time."
   ]
  },
  {
   "cell_type": "markdown",
   "metadata": {},
   "source": [
    "SELECT book.starttime as start, fac.name as name\n",
    "FROM cd.facilities as fac\n",
    "\n",
    "FULL OUTER JOIN cd.bookings as book\n",
    "ON fac.facid = book.facid\n",
    "\n",
    "WHERE book.starttime::DATE = '2012-09-21' AND (fac.name ~ '^Tennis')\n",
    "\n",
    "ORDER BY book.starttime\n"
   ]
  },
  {
   "cell_type": "code",
   "execution_count": null,
   "metadata": {},
   "outputs": [],
   "source": []
  },
  {
   "cell_type": "markdown",
   "metadata": {},
   "source": [
    "#### List the total slots booked per facility per month\n",
    "Produce a list of the total number of slots booked per facility per month in the year of 2012. Produce an output table consisting of facility id and slots, sorted by the id and month.\n"
   ]
  },
  {
   "cell_type": "markdown",
   "metadata": {},
   "source": [
    "SELECT facid, EXTRACT (MONTH FROM starttime) as month, SUM(slots) as \"Total Slots\"\n",
    "\n",
    "FROM cd.bookings \n",
    "\n",
    "WHERE EXTRACT (YEAR FROM starttime) = '2012'\n",
    "\n",
    "GROUP BY facid, month\n",
    "\n",
    "ORDER BY facid, month"
   ]
  },
  {
   "cell_type": "code",
   "execution_count": null,
   "metadata": {},
   "outputs": [],
   "source": []
  },
  {
   "cell_type": "code",
   "execution_count": null,
   "metadata": {},
   "outputs": [],
   "source": []
  }
 ],
 "metadata": {
  "kernelspec": {
   "display_name": "Python 3",
   "language": "python",
   "name": "python3"
  },
  "language_info": {
   "codemirror_mode": {
    "name": "ipython",
    "version": 3
   },
   "file_extension": ".py",
   "mimetype": "text/x-python",
   "name": "python",
   "nbconvert_exporter": "python",
   "pygments_lexer": "ipython3",
   "version": "3.6.4"
  }
 },
 "nbformat": 4,
 "nbformat_minor": 2
}
